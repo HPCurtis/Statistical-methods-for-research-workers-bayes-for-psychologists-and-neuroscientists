{
 "cells": [
  {
   "cell_type": "markdown",
   "metadata": {},
   "source": [
    "# The classic pearson correlation \n",
    "\n",
    "Pearson correlation in its simplest form measures the linear relationship between two random variables. \n",
    "\n",
    "The sample pearson correlation for rnadom variables $(x,y)$ is calculated as:\n",
    "\n",
    "\\begin{align*}\n",
    "\\Large r = \\frac{\\Sigma(x_i - \\bar{x})(y_i - \\bar{y})}{\\sqrt{\\Sigma(x_i - \\bar{x})^2 \\Sigma(y_i - \\bar{y})^2}}\\end{align*}\n",
    "\n",
    "\n",
    "Under the NHST framework the p-value is calculated under the t-distribution:\n",
    "\n",
    "\\begin{align*}\n",
    "\\large t = \\frac{r\\sqrt{n-2}}{\\sqrt{1 - r^2}}\n",
    "\\end{align*}\n",
    "\n",
    "$$ \\large H_0: r = \\rho_0$$\n",
    "$$ \\large H_1: r \\neq \\rho_0$$"
   ]
  },
  {
   "cell_type": "markdown",
   "metadata": {},
   "source": [
    "# Bayesian inference\n",
    "\n",
    "<font size = \"3\"> Following the quick description of the classic pearson correlation above its important to keep in mind that Bayesian inferences are all derived from the application of Bayes rule $$P(\\theta \\mid y) = \\large \\frac{P(y \\mid \\theta) \\, P(\\theta)}{P(y)}$$ and as such while the following description of the Bayesian model is an equivalent to the Pearson correlation, it is fundamentally different, because it uses fully probabilistic modelling and the inferences are not based on sampling distributions</font>\n",
    "    \n",
    "<font size = \"1\"> For a fuller description see the Practicing Bayesian statistics markdown file within the Github repository.</font>"
   ]
  },
  {
   "cell_type": "markdown",
   "metadata": {},
   "source": [
    "## Bayesian correlation comes in many flavours\n",
    "\n",
    "The following models, like many Bayesian models, can be parameterized in multiple ways to yield the same inferences. For models used to calculate correlations, a good resource to explore this variation in parameterization is this [great blog](https://solomonkurz.netlify.app/blog/2019-02-16-bayesian-correlations-let-s-talk-options/) by the fantastic Bayesian/apllied stats educator Solomon Kurz. That blog focus on using regressionm modelling framewrok thorugh use of the Paul Buerkner's R brms package to estiamte correlations.\n",
    "\n",
    "That blog focuses on using a regression modeling framework through Paul Bürkner's R brms package to estimate correlations.\n",
    "\n",
    "This notebook focuses on a specific form of one of the parameterizations of a model to estimate correlations (specifically multivariate normal models with fixed known \n",
    "μ's and σ's) and ignores much of the regression framework nomenclature from a probabilistic modeling perspective. (Readers, please note that this is more an issue of semantics than substance, as much of the mathematics overlaps, which is why regression-focused software such as brms can estimate correlation models when specified correctly, as demonstrated by Solomon.)\n",
    "\n",
    "This parameterisation is chosen because it is the most efficient implementation (however, see the repository for all model implementations). The code here is simpler than the Stan code produced by the brms package used in the blog to achieve the same results for the data analysed here. Hopefully, this will aid individuals learning Stan code in better understanding the implementation process."
   ]
  },
  {
   "cell_type": "markdown",
   "metadata": {},
   "source": [
    "# Steps of Bayesian data analysis\n",
    "\n",
    "<font size = \"3\"> Kruschke (2015) offers a step by step formulation for how to conduct a Bayesian data analysis:\n",
    "\n",
    "1. Identify the relevant data for question under investigation.\n",
    "\n",
    "2. Define the descriptive (mathematical) model for the data.\n",
    "\n",
    "3. Specify the Priors for the model. In the case of scientific research publication is the goal, as such the priors must be accepted by a skeptical audience. Much of this can be achieved using prior predcitve checks to acsetain os the priors are reasonable.\n",
    "\n",
    "4. Using Bayes rule estimate the posterior for the parameters of the model using the likelihood and priors. Then interpret the posterior\n",
    "\n",
    "5. Conduct model checks. i.e. Posterior predcitive checks.</font> \n",
    "\n",
    "<font size = \"1\">This notebook will follow this approach generally.</font> "
   ]
  },
  {
   "cell_type": "code",
   "execution_count": 1,
   "metadata": {},
   "outputs": [],
   "source": [
    "# Import data analysis and visualisation packages\n",
    "%matplotlib inline\n",
    "import stan as ps\n",
    "import numpy as np\n",
    "import pandas as pd\n",
    "import patsy as pt\n",
    "import seaborn as sns\n",
    "import arviz as az\n",
    "import matplotlib.pyplot as plt\n",
    "import scipy.stats as stats\n",
    "import os\n",
    "\n",
    "# Importing nest_asyncio is only necessary to run pystan in Jupyter Notebooks.\n",
    "import nest_asyncio\n",
    "nest_asyncio.apply();\n",
    "\n",
    "# Specify the number of chains to the number of availible cpu's.\n",
    "n_chains = os.cpu_count()\n",
    "n_samples = 2000\n",
    "#Convert to int so Stan will not crash below.\n",
    "n_warmup = int(n_samples/2)\n",
    "#Specify step size.\n",
    "stepS = .8"
   ]
  },
  {
   "cell_type": "markdown",
   "metadata": {},
   "source": [
    "## Step 1 - Identify the relevant data for the question under investigation"
   ]
  },
  {
   "cell_type": "markdown",
   "metadata": {},
   "source": [
    "Due to the simple nature of correlations the datset chosen here as demonstrative example is the mtcars dataset. This dataset is a common pedagological dataset in the statistics and machine learning circles.The dataset description in full can be found at https://www.rdocumentation.org/packages/datasets/versions/3.6.2/topics/mtcars. A short descrition is simple that the dataset was extracted from 1974 Motor Trend US magazine. Reporting automotive perfomance metrics across a range of automobiles."
   ]
  },
  {
   "cell_type": "code",
   "execution_count": null,
   "metadata": {},
   "outputs": [],
   "source": [
    "# Dataset taken from open github repository\n",
    "url = \n",
    "\n",
    "# Import data into pandas dataframe.\n",
    "df = pd.read_csv(url)"
   ]
  },
  {
   "cell_type": "markdown",
   "metadata": {},
   "source": [
    "# Step 2 - Define the descriptive statistical model"
   ]
  },
  {
   "cell_type": "markdown",
   "metadata": {},
   "source": [
    "$$\n",
    "\\begin{align*}\n",
    "y_{ij} &\\sim \\text{MultivariateNormal}(\\mu_k, \\Sigma) \\\\\n",
    "\\mu_k &= [0,0] \\\\\n",
    "\\sigma_k &= [1,1] \\\\\n",
    "\\rho &\\sim \\text{LKJ}(1) \\\\\n",
    "\\Sigma &\\sim MVN\\bigg(\\mu_k, \n",
    "\\begin{bmatrix}\n",
    "\\sigma_1^2 & \\rho \\sigma_1 \\sigma_2 \\\\\n",
    "\\rho \\sigma_1 \\sigma_2 & \\sigma_2^2 \n",
    "\\end{bmatrix}\\bigg)\n",
    "\\end{align*}\n",
    "$$\n"
   ]
  },
  {
   "cell_type": "markdown",
   "metadata": {},
   "source": [
    "As stated above the model above allows for the estimation of correlation between variables similarly to classic Pearson correlation. The biggest difference here though is because we are only interested in the correlations we can standardise the data and then assume that the $\\mu's$ & $\\sigma's$ are known in the model (as 0 and 1 repectively) as they are not of interest in this case whilst still preserving the same covariance in the data to estimate correlation between the variables of interest. This method becomes more valuable as the number of correlations you wish to estimate increases as it greatly reduces the number of parameters that are needed to be estimated and allows for more stable computation."
   ]
  },
  {
   "cell_type": "markdown",
   "metadata": {},
   "source": [
    "# Step 4 - use Bayes rule"
   ]
  },
  {
   "cell_type": "markdown",
   "metadata": {},
   "source": [
    "# Stan model for multiple correlation estimation"
   ]
  },
  {
   "cell_type": "code",
   "execution_count": 3,
   "metadata": {},
   "outputs": [],
   "source": [
    "Correlation_model = \"\"\"\n",
    "data{\n",
    "\n",
    "int<lower = 0> N; // Number of data points\n",
    "int<lower = 0> K; // Number of correlates\n",
    "vector[K] y[N]; // vectorised form of matrix\n",
    "\n",
    "// Assumed know parameter values\n",
    "vector[K] mu;\n",
    "vector[K] sigma;\n",
    "\n",
    "}\n",
    "\n",
    "parameters{\n",
    "// Correlation matrix\n",
    "corr_matrix[K] rho;\n",
    "}\n",
    "\n",
    "model{\n",
    "// Covariance matrix\n",
    "matrix[K,K] Sigma;\n",
    "Sigma = quad_form_diag(rho,sigma);\n",
    "\n",
    "// Uniform prior for correlation parameters\n",
    "rho ~ lkj_corr(1);\n",
    "\n",
    "//Likelihood\n",
    "y ~ multi_normal(mu, Sigma);\n",
    "}   \n",
    "\"\"\""
   ]
  },
  {
   "cell_type": "code",
   "execution_count": 5,
   "metadata": {},
   "outputs": [],
   "source": [
    "# Generate Python dicitonary to pass to Stan data block with relevant variables.\n",
    "data = {'N': len(y),\n",
    "       \"K\": y.shape[1],\n",
    "       'y': y,\n",
    "       'mu': np.repeat(0,y.shape[1]),\n",
    "        'sigma': np.repeat(1,y.shape[1])}"
   ]
  },
  {
   "cell_type": "code",
   "execution_count": 6,
   "metadata": {},
   "outputs": [
    {
     "name": "stdout",
     "output_type": "stream",
     "text": [
      "Building...\n"
     ]
    },
    {
     "name": "stderr",
     "output_type": "stream",
     "text": [
      "\n",
      "Building: 64.8s, done.Messages from stanc:\n",
      "Warning in '/tmp/httpstan_eh4dh0ex/model_fptdn4n6.stan', line 25, column 0: It is suggested to reparameterize your model to replace lkj_corr with lkj_corr_cholesky, the Cholesky factor variant. lkj_corr tends to run slower, consume more memory, and has higher risk of numerical errors.\n"
     ]
    }
   ],
   "source": [
    "# Compile stan model to C++ code.\n",
    "sm = ps.build(Correlation_model, data = data, random_seed = 1)"
   ]
  },
  {
   "cell_type": "code",
   "execution_count": 7,
   "metadata": {},
   "outputs": [
    {
     "name": "stderr",
     "output_type": "stream",
     "text": [
      "Sampling:   0%\n",
      "Sampling:  25% (3000/12000)\n",
      "Sampling:  50% (6000/12000)\n",
      "Sampling:  75% (9000/12000)\n",
      "Sampling: 100% (12000/12000)\n",
      "Sampling: 100% (12000/12000), done.\n",
      "Messages received during sampling:\n",
      "  Gradient evaluation took 0.000118 seconds\n",
      "  1000 transitions using 10 leapfrog steps per transition would take 1.18 seconds.\n",
      "  Adjust your expectations accordingly!\n",
      "  Informational Message: The current Metropolis proposal is about to be rejected because of the following issue:\n",
      "  Exception: lkj_corr_lpdf: y is not positive definite. (in '/tmp/httpstan_6eqr4zc7/model_fptdn4n6.stan', line 25, column 0 to column 18)\n",
      "  If this warning occurs sporadically, such as for highly constrained variable types like covariance matrices, then the sampler is fine,\n",
      "  but if this warning occurs often then your model may be either severely ill-conditioned or misspecified.\n",
      "  Informational Message: The current Metropolis proposal is about to be rejected because of the following issue:\n",
      "  Exception: lkj_corr_lpdf: y is not positive definite. (in '/tmp/httpstan_6eqr4zc7/model_fptdn4n6.stan', line 25, column 0 to column 18)\n",
      "  If this warning occurs sporadically, such as for highly constrained variable types like covariance matrices, then the sampler is fine,\n",
      "  but if this warning occurs often then your model may be either severely ill-conditioned or misspecified.\n",
      "  Informational Message: The current Metropolis proposal is about to be rejected because of the following issue:\n",
      "  Exception: lkj_corr_lpdf: y is not positive definite. (in '/tmp/httpstan_6eqr4zc7/model_fptdn4n6.stan', line 25, column 0 to column 18)\n",
      "  If this warning occurs sporadically, such as for highly constrained variable types like covariance matrices, then the sampler is fine,\n",
      "  but if this warning occurs often then your model may be either severely ill-conditioned or misspecified.\n",
      "  Gradient evaluation took 0.000101 seconds\n",
      "  1000 transitions using 10 leapfrog steps per transition would take 1.01 seconds.\n",
      "  Adjust your expectations accordingly!\n",
      "  Informational Message: The current Metropolis proposal is about to be rejected because of the following issue:\n",
      "  Exception: lkj_corr_lpdf: y is not positive definite. (in '/tmp/httpstan_6eqr4zc7/model_fptdn4n6.stan', line 25, column 0 to column 18)\n",
      "  If this warning occurs sporadically, such as for highly constrained variable types like covariance matrices, then the sampler is fine,\n",
      "  but if this warning occurs often then your model may be either severely ill-conditioned or misspecified.\n",
      "  Informational Message: The current Metropolis proposal is about to be rejected because of the following issue:\n",
      "  Exception: lkj_corr_lpdf: y is not positive definite. (in '/tmp/httpstan_6eqr4zc7/model_fptdn4n6.stan', line 25, column 0 to column 18)\n",
      "  If this warning occurs sporadically, such as for highly constrained variable types like covariance matrices, then the sampler is fine,\n",
      "  but if this warning occurs often then your model may be either severely ill-conditioned or misspecified.\n",
      "  Informational Message: The current Metropolis proposal is about to be rejected because of the following issue:\n",
      "  Exception: lkj_corr_lpdf: y is not positive definite. (in '/tmp/httpstan_6eqr4zc7/model_fptdn4n6.stan', line 25, column 0 to column 18)\n",
      "  If this warning occurs sporadically, such as for highly constrained variable types like covariance matrices, then the sampler is fine,\n",
      "  but if this warning occurs often then your model may be either severely ill-conditioned or misspecified.\n",
      "  Gradient evaluation took 7.9e-05 seconds\n",
      "  1000 transitions using 10 leapfrog steps per transition would take 0.79 seconds.\n",
      "  Adjust your expectations accordingly!\n",
      "  Informational Message: The current Metropolis proposal is about to be rejected because of the following issue:\n",
      "  Exception: lkj_corr_lpdf: y is not positive definite. (in '/tmp/httpstan_6eqr4zc7/model_fptdn4n6.stan', line 25, column 0 to column 18)\n",
      "  If this warning occurs sporadically, such as for highly constrained variable types like covariance matrices, then the sampler is fine,\n",
      "  but if this warning occurs often then your model may be either severely ill-conditioned or misspecified.\n",
      "  Gradient evaluation took 0.000113 seconds\n",
      "  1000 transitions using 10 leapfrog steps per transition would take 1.13 seconds.\n",
      "  Adjust your expectations accordingly!\n",
      "  Informational Message: The current Metropolis proposal is about to be rejected because of the following issue:\n",
      "  Exception: lkj_corr_lpdf: y is not positive definite. (in '/tmp/httpstan_6eqr4zc7/model_fptdn4n6.stan', line 25, column 0 to column 18)\n",
      "  If this warning occurs sporadically, such as for highly constrained variable types like covariance matrices, then the sampler is fine,\n",
      "  but if this warning occurs often then your model may be either severely ill-conditioned or misspecified.\n",
      "  Informational Message: The current Metropolis proposal is about to be rejected because of the following issue:\n",
      "  Exception: lkj_corr_lpdf: y is not positive definite. (in '/tmp/httpstan_6eqr4zc7/model_fptdn4n6.stan', line 25, column 0 to column 18)\n",
      "  If this warning occurs sporadically, such as for highly constrained variable types like covariance matrices, then the sampler is fine,\n",
      "  but if this warning occurs often then your model may be either severely ill-conditioned or misspecified.\n",
      "  Informational Message: The current Metropolis proposal is about to be rejected because of the following issue:\n",
      "  Exception: lkj_corr_lpdf: y is not positive definite. (in '/tmp/httpstan_6eqr4zc7/model_fptdn4n6.stan', line 25, column 0 to column 18)\n",
      "  If this warning occurs sporadically, such as for highly constrained variable types like covariance matrices, then the sampler is fine,\n",
      "  but if this warning occurs often then your model may be either severely ill-conditioned or misspecified.\n",
      "  Informational Message: The current Metropolis proposal is about to be rejected because of the following issue:\n",
      "  Exception: lkj_corr_lpdf: y is not positive definite. (in '/tmp/httpstan_6eqr4zc7/model_fptdn4n6.stan', line 25, column 0 to column 18)\n",
      "  If this warning occurs sporadically, such as for highly constrained variable types like covariance matrices, then the sampler is fine,\n",
      "  but if this warning occurs often then your model may be either severely ill-conditioned or misspecified.\n"
     ]
    }
   ],
   "source": [
    "fit = sm.sample(num_chains = n_chains , num_samples = n_samples, num_warmup = n_warmup, stepsize = stepS)"
   ]
  },
  {
   "cell_type": "code",
   "execution_count": 8,
   "metadata": {},
   "outputs": [
    {
     "name": "stderr",
     "output_type": "stream",
     "text": [
      "/home/users/bu807041/.local/lib/python3.7/site-packages/arviz/stats/diagnostics.py:561: RuntimeWarning: invalid value encountered in double_scalars\n",
      "  (between_chain_variance / within_chain_variance + num_samples - 1) / (num_samples)\n"
     ]
    },
    {
     "data": {
      "text/html": [
       "<div>\n",
       "<style scoped>\n",
       "    .dataframe tbody tr th:only-of-type {\n",
       "        vertical-align: middle;\n",
       "    }\n",
       "\n",
       "    .dataframe tbody tr th {\n",
       "        vertical-align: top;\n",
       "    }\n",
       "\n",
       "    .dataframe thead th {\n",
       "        text-align: right;\n",
       "    }\n",
       "</style>\n",
       "<table border=\"1\" class=\"dataframe\">\n",
       "  <thead>\n",
       "    <tr style=\"text-align: right;\">\n",
       "      <th></th>\n",
       "      <th>mean</th>\n",
       "      <th>sd</th>\n",
       "      <th>hdi_3%</th>\n",
       "      <th>hdi_97%</th>\n",
       "      <th>mcse_mean</th>\n",
       "      <th>mcse_sd</th>\n",
       "      <th>ess_bulk</th>\n",
       "      <th>ess_tail</th>\n",
       "      <th>r_hat</th>\n",
       "    </tr>\n",
       "  </thead>\n",
       "  <tbody>\n",
       "    <tr>\n",
       "      <th>rho[0,0]</th>\n",
       "      <td>1.000</td>\n",
       "      <td>0.000</td>\n",
       "      <td>1.000</td>\n",
       "      <td>1.000</td>\n",
       "      <td>0.000</td>\n",
       "      <td>0.000</td>\n",
       "      <td>8000.0</td>\n",
       "      <td>8000.0</td>\n",
       "      <td>NaN</td>\n",
       "    </tr>\n",
       "    <tr>\n",
       "      <th>rho[0,1]</th>\n",
       "      <td>-0.849</td>\n",
       "      <td>0.041</td>\n",
       "      <td>-0.917</td>\n",
       "      <td>-0.774</td>\n",
       "      <td>0.001</td>\n",
       "      <td>0.001</td>\n",
       "      <td>2586.0</td>\n",
       "      <td>3199.0</td>\n",
       "      <td>1.0</td>\n",
       "    </tr>\n",
       "    <tr>\n",
       "      <th>rho[1,0]</th>\n",
       "      <td>-0.849</td>\n",
       "      <td>0.041</td>\n",
       "      <td>-0.917</td>\n",
       "      <td>-0.774</td>\n",
       "      <td>0.001</td>\n",
       "      <td>0.001</td>\n",
       "      <td>2586.0</td>\n",
       "      <td>3199.0</td>\n",
       "      <td>1.0</td>\n",
       "    </tr>\n",
       "    <tr>\n",
       "      <th>rho[1,1]</th>\n",
       "      <td>1.000</td>\n",
       "      <td>0.000</td>\n",
       "      <td>1.000</td>\n",
       "      <td>1.000</td>\n",
       "      <td>0.000</td>\n",
       "      <td>0.000</td>\n",
       "      <td>8023.0</td>\n",
       "      <td>8000.0</td>\n",
       "      <td>1.0</td>\n",
       "    </tr>\n",
       "  </tbody>\n",
       "</table>\n",
       "</div>"
      ],
      "text/plain": [
       "           mean     sd  hdi_3%  hdi_97%  mcse_mean  mcse_sd  ess_bulk  \\\n",
       "rho[0,0]  1.000  0.000   1.000    1.000      0.000    0.000    8000.0   \n",
       "rho[0,1] -0.849  0.041  -0.917   -0.774      0.001    0.001    2586.0   \n",
       "rho[1,0] -0.849  0.041  -0.917   -0.774      0.001    0.001    2586.0   \n",
       "rho[1,1]  1.000  0.000   1.000    1.000      0.000    0.000    8023.0   \n",
       "\n",
       "          ess_tail  r_hat  \n",
       "rho[0,0]    8000.0    NaN  \n",
       "rho[0,1]    3199.0    1.0  \n",
       "rho[1,0]    3199.0    1.0  \n",
       "rho[1,1]    8000.0    1.0  "
      ]
     },
     "execution_count": 8,
     "metadata": {},
     "output_type": "execute_result"
    }
   ],
   "source": [
    "# Output summary plot for estimated correltation parameters\n",
    "az.summary(fit)"
   ]
  },
  {
   "cell_type": "code",
   "execution_count": 9,
   "metadata": {},
   "outputs": [],
   "source": [
    "# Put samples into to pandas dataframe and calcualte key metrics\n",
    "fit_df = fit.to_frame()"
   ]
  },
  {
   "cell_type": "markdown",
   "metadata": {},
   "source": [
    "## Step 5 - Posterior predictive checks\n",
    "\n",
    "For this correlation model some of these checks make less sense, because implicitly many of the parameters are assumed to be known as 0 or 1, and we are only interested to how much the variables are correlated. However, posterior checks to see if posterior samples have no pathological issues is still crucial."
   ]
  },
  {
   "cell_type": "markdown",
   "metadata": {},
   "source": [
    "## Posterior"
   ]
  },
  {
   "cell_type": "code",
   "execution_count": 10,
   "metadata": {},
   "outputs": [
    {
     "data": {
      "image/png": "[encoded data removed]",
      "text/plain": [
       "<Figure size 432x288 with 1 Axes>"
      ]
     },
     "metadata": {
      "needs_background": "light"
     },
     "output_type": "display_data"
    }
   ],
   "source": [
    "# Plot the single correlation coefficent of interest.\n",
    "az.plot_posterior(fit_df['rho.2.1'].values);"
   ]
  },
  {
   "cell_type": "markdown",
   "metadata": {},
   "source": [
    "## Traceplot"
   ]
  },
  {
   "cell_type": "code",
   "execution_count": 11,
   "metadata": {},
   "outputs": [
    {
     "data": {
      "image/png": "[encoded data removed]",
      "text/plain": [
       "<Figure size 864x144 with 2 Axes>"
      ]
     },
     "metadata": {
      "needs_background": "light"
     },
     "output_type": "display_data"
    }
   ],
   "source": [
    "az.plot_trace(fit_df['rho.2.1'].values);"
   ]
  },
  {
   "cell_type": "markdown",
   "metadata": {},
   "source": [
    "Traceplot shows no pathlogical issue with good chain mixing 'Fuzzy caterpillars'"
   ]
  },
  {
   "cell_type": "markdown",
   "metadata": {},
   "source": [
    "## Autocorrelation plot"
   ]
  },
  {
   "cell_type": "code",
   "execution_count": 12,
   "metadata": {},
   "outputs": [
    {
     "data": {
      "image/png": "[encoded data removed]",
      "text/plain": [
       "<Figure size 432x288 with 1 Axes>"
      ]
     },
     "metadata": {
      "needs_background": "light"
     },
     "output_type": "display_data"
    }
   ],
   "source": [
    "az.plot_autocorr(fit_df['rho.2.1'].values);"
   ]
  },
  {
   "cell_type": "markdown",
   "metadata": {},
   "source": [
    "Autocorrelation plot suggests no major issues with autocorrelation quickly returning to 0."
   ]
  },
  {
   "cell_type": "markdown",
   "metadata": {},
   "source": [
    "# Reporting the results of the Bayesian correlation\n",
    "\n",
    "<font size = \"3\">As Kruschke (2015) correctly points out there is no standard formula for presentation of results of Bayesian data analysis in journal articles like the APA guide for reporting frequentist analysis. It is likely there never will be, because as McElreath (2020) explains, Bayesian data analysis is more like a engineering approach to the problem and the resulting model that is fit will be analysis specific. In addition, as Gabry et al, (2019) argue visualisations maybe even more key for describing an analysis (show dont tell). As such, all the visualisations used above would likely be included with any write up. Anyhow, the write up below generally follows the advice of Kruschke (2015) chapter 25. In any application though it comes down to the problem to be described and the audience that needs to be convinced. </p><br/>\n",
    "\n",
    "<h2>Write up</h2><br/>"
   ]
  },
  {
   "cell_type": "markdown",
   "metadata": {},
   "source": [
    "# References\n",
    "\n",
    "Bürkner, P. C. (2017). brms: An R package for Bayesian multilevel models using Stan. Journal of statistical software, 80(1), 1-28.\n",
    "\n",
    "McElreath, R. (2020). Statistical rethinking: A Bayesian course with examples in R and Stan. Boca Raton: CRC Press.\n",
    "\n",
    "Vehtari, A., Gelman, A., Simpson, D., Carpenter, B., & Bürkner, P. C. (2019). Rank-normalization, folding, and localization: An improved $\\widehat {R} $ for assessing convergence of MCMC. arXiv preprint arXiv:1903.08008."
   ]
  }
 ],
 "metadata": {
  "kernelspec": {
   "display_name": "stan",
   "language": "python",
   "name": "python3"
  },
  "language_info": {
   "codemirror_mode": {
    "name": "ipython",
    "version": 3
   },
   "file_extension": ".py",
   "mimetype": "text/x-python",
   "name": "python",
   "nbconvert_exporter": "python",
   "pygments_lexer": "ipython3",
   "version": "3.13.1"
  },
  "toc": {
   "base_numbering": 1,
   "nav_menu": {},
   "number_sections": true,
   "sideBar": true,
   "skip_h1_title": false,
   "title_cell": "Table of Contents",
   "title_sidebar": "Contents",
   "toc_cell": true,
   "toc_position": {},
   "toc_section_display": true,
   "toc_window_display": true
  }
 },
 "nbformat": 4,
 "nbformat_minor": 2
}
