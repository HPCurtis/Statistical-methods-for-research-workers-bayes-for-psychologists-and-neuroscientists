{
 "cells": [
  {
   "cell_type": "code",
   "execution_count": 1,
   "id": "83df3d7e",
   "metadata": {},
   "outputs": [],
   "source": [
    "# Import data analysis and visualisation packages\n",
    "import numpy as np\n",
    "import pandas as pd\n",
    "import patsy as pt\n",
    "import stan as ps\n",
    "import matplotlib.pyplot as plt\n",
    "import seaborn as sns\n",
    "import scipy.stats as stats\n",
    "import arviz as az\n",
    "\n",
    "# Importing nest_asyncio is only necessary to run pystan in Jupyter Notebooks.\n",
    "import nest_asyncio\n",
    "nest_asyncio.apply();"
   ]
  },
  {
   "cell_type": "markdown",
   "id": "033c2ff3",
   "metadata": {},
   "source": [
    "## Stan code"
   ]
  },
  {
   "cell_type": "code",
   "execution_count": null,
   "id": "f685657b",
   "metadata": {},
   "outputs": [],
   "source": [
    "softmax = \"\"\"data {\n",
    "  int K;\n",
    "  int N;\n",
    "  int D;\n",
    "  int y[N];\n",
    "  matrix[N, D] x;\n",
    "  \n",
    "  real mu_mu;\n",
    "  real mu_sd;\n",
    "}\n",
    "parameters {\n",
    "  matrix[D, K] beta;\n",
    "}\n",
    "model {\n",
    "  matrix[N, K] x_beta = x * beta;\n",
    "\n",
    "  to_vector(beta) ~ normal();\n",
    "\n",
    "  for (n in 1:N)\n",
    "    y[n] ~ categorical_logit(x_beta[n]');\n",
    "    \n",
    "}\"\"\""
   ]
  },
  {
   "cell_type": "code",
   "execution_count": null,
   "id": "51d51de4",
   "metadata": {},
   "outputs": [],
   "source": []
  },
  {
   "cell_type": "code",
   "execution_count": null,
   "id": "8fbd95df",
   "metadata": {},
   "outputs": [],
   "source": [
    "sm = ps.build(softmax, data = data, random_seed = 1)"
   ]
  }
 ],
 "metadata": {
  "kernelspec": {
   "display_name": "Python 3",
   "language": "python",
   "name": "python3"
  },
  "language_info": {
   "codemirror_mode": {
    "name": "ipython",
    "version": 3
   },
   "file_extension": ".py",
   "mimetype": "text/x-python",
   "name": "python",
   "nbconvert_exporter": "python",
   "pygments_lexer": "ipython3",
   "version": "3.7.10"
  }
 },
 "nbformat": 4,
 "nbformat_minor": 5
}
