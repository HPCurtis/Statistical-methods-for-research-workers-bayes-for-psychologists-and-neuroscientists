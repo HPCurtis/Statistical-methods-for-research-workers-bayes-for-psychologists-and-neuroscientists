{
 "cells": [
  {
   "cell_type": "code",
   "execution_count": 1,
   "id": "0ad160ca",
   "metadata": {},
   "outputs": [],
   "source": [
    "# Import relevant packages for analysis below.\n",
    "%matplotlib inline\n",
    "import stan as ps\n",
    "import patsy as pt\n",
    "import numpy as np\n",
    "import pandas as pd\n",
    "import seaborn as sns\n",
    "import arviz as az\n",
    "import matplotlib.pyplot as plt\n",
    "import os\n",
    "\n",
    "import nest_asyncio\n",
    "nest_asyncio.apply()\n",
    "\n",
    "# Specify the number of chains to the number of availible cpu's.\n",
    "n_chains = os.cpu_count()\n",
    "n_samples = 2000\n",
    "#Convert to int so Stan will not crash below.\n",
    "n_warmup = int(n_samples/2)\n",
    "#Specify step size.\n",
    "stepS = .8"
   ]
  },
  {
   "cell_type": "code",
   "execution_count": 2,
   "id": "64095850",
   "metadata": {},
   "outputs": [
    {
     "data": {
      "text/html": [
       " <style>\n",
       ".output_png {\n",
       "    display: table-cell;\n",
       "    text-align: center;\n",
       "    vertical-align: middle;\n",
       "}\n",
       "</style> "
      ],
      "text/plain": [
       "<IPython.core.display.HTML object>"
      ]
     },
     "execution_count": 2,
     "metadata": {},
     "output_type": "execute_result"
    }
   ],
   "source": [
    "from IPython.core.display import HTML as Center\n",
    "\n",
    "Center(\"\"\" <style>\n",
    ".output_png {\n",
    "    display: table-cell;\n",
    "    text-align: center;\n",
    "    vertical-align: middle;\n",
    "}\n",
    "</style> \"\"\")"
   ]
  },
  {
   "cell_type": "code",
   "execution_count": 3,
   "id": "07964a67",
   "metadata": {},
   "outputs": [],
   "source": [
    "unrelatedreg = ''' \n",
    "\n",
    "data {\n",
    "  int<lower=1> K;\n",
    "  int<lower=1> J;\n",
    "  int<lower=0> N;\n",
    "  array[N] vector[J] x;\n",
    "  array[N] vector[K] y;\n",
    "  \n",
    "  real beta_sigma;\n",
    "  real corr_val;\n",
    "  real sigma_sigma;\n",
    "  \n",
    "  int<lower= 0, upper = 1> onlyprior; \n",
    "} \n",
    "\n",
    "parameters {\n",
    "  matrix[K, J] beta;\n",
    "  cholesky_factor_corr[K] L_Omega;\n",
    "  vector<lower=0>[K] L_sigma;\n",
    "}\n",
    "transformed parameters{\n",
    " array[N] vector[K] mu;\n",
    "  matrix[K, K] L_Sigma;\n",
    "\n",
    "  for (n in 1:N) {\n",
    "    mu[n] = beta * x[n];\n",
    "  }\n",
    "  L_Sigma = diag_pre_multiply(L_sigma, L_Omega);\n",
    "}\n",
    "\n",
    "model {\n",
    "  // vectorisation of the prior assignment \n",
    "  to_vector(beta) ~ normal(0, beta_sigma);\n",
    "  \n",
    "  L_Omega ~ lkj_corr_cholesky(corr_val);\n",
    "  L_sigma ~ cauchy(0, sigma_sigma);\n",
    "\n",
    "  y ~ multi_normal_cholesky(mu, L_Sigma);\n",
    "}\n",
    "\n",
    "'''"
   ]
  },
  {
   "cell_type": "code",
   "execution_count": null,
   "id": "1a915bec",
   "metadata": {},
   "outputs": [],
   "source": [
    "data = {'N': ,\n",
    "        'J':,\n",
    "        'N ':,\n",
    "        'x':,\n",
    "        'y':,\n",
    "        'beta_sigma':,\n",
    "        'corr_val':,\n",
    "        'sigma_sigma':,\n",
    "        'onlyprior':}"
   ]
  }
 ],
 "metadata": {
  "kernelspec": {
   "display_name": "Python 3",
   "language": "python",
   "name": "python3"
  },
  "language_info": {
   "codemirror_mode": {
    "name": "ipython",
    "version": 3
   },
   "file_extension": ".py",
   "mimetype": "text/x-python",
   "name": "python",
   "nbconvert_exporter": "python",
   "pygments_lexer": "ipython3",
   "version": "3.7.10"
  }
 },
 "nbformat": 4,
 "nbformat_minor": 5
}
