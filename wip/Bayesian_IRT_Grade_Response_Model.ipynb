{
 "cells": [
  {
   "cell_type": "code",
   "execution_count": 1,
   "id": "978d071b",
   "metadata": {},
   "outputs": [],
   "source": [
    "# Import relevant packages for analysis\n",
    "import stan as ps\n",
    "import pandas as pd\n",
    "import numpy as np\n",
    "import matplotlib.pyplot as plt\n",
    "%matplotlib inline\n",
    "import seaborn as sns\n",
    "from patsy import dmatrix, dmatrices\n",
    "from patsy.contrasts import Treatment, Sum\n",
    "import arviz as az\n",
    "\n",
    "# Importing nest_asyncio is only necessary to run pystan in Jupyter Notebooks.\n",
    "import nest_asyncio\n",
    "nest_asyncio.apply();"
   ]
  },
  {
   "cell_type": "markdown",
   "id": "f7097e6b",
   "metadata": {},
   "source": [
    "## Using Stan to simulate a dataset"
   ]
  },
  {
   "cell_type": "code",
   "execution_count": null,
   "id": "5cbbc747",
   "metadata": {},
   "outputs": [],
   "source": [
    "dataSim = '''\n",
    "data{\n",
    "int<lower =1> K; //number of categories\n",
    "int<lower=0> S; // Number of students\n",
    "int<lower=0> I; // Numbr of items\n",
    "}\n",
    "generated quantities{\n",
    "real int<lower=1,upper=K > ysim[S,I]\n",
    "for (i in 1:S){\n",
    "    for (j in 1:I){\n",
    "        ysim[i,j] = ordered_logistic_rng(theta[i]*alpha[j],kappa[j]);\n",
    "    }\n",
    "}\n",
    "}\n",
    "'''"
   ]
  }
 ],
 "metadata": {
  "kernelspec": {
   "display_name": "Python 3 (ipykernel)",
   "language": "python",
   "name": "python3"
  },
  "language_info": {
   "codemirror_mode": {
    "name": "ipython",
    "version": 3
   },
   "file_extension": ".py",
   "mimetype": "text/x-python",
   "name": "python",
   "nbconvert_exporter": "python",
   "pygments_lexer": "ipython3",
   "version": "3.11.4"
  }
 },
 "nbformat": 4,
 "nbformat_minor": 5
}
