{
 "cells": [
  {
   "cell_type": "markdown",
   "metadata": {
    "toc": true
   },
   "source": [
    "<h1>Table of Contents<span class=\"tocSkip\"></span></h1>\n",
    "<div class=\"toc\"><ul class=\"toc-item\"><li><span><a href=\"#Bayesian-estimation-equivalent-of-the-between-subjects-(student)-t-test\" data-toc-modified-id=\"Bayesian-estimation-equivalent-of-the-between-subjects-(student)-t-test-1\"><span class=\"toc-item-num\">1&nbsp;&nbsp;</span>Bayesian estimation equivalent of the between subjects (student) t-test</a></span><ul class=\"toc-item\"><li><span><a href=\"#The-classic-between-subject-(student-t-test)\" data-toc-modified-id=\"The-classic-between-subject-(student-t-test)-1.1\"><span class=\"toc-item-num\">1.1&nbsp;&nbsp;</span>The classic between subject (student t-test)</a></span></li></ul></li><li><span><a href=\"#Steps-of-Bayesian-data-analysis\" data-toc-modified-id=\"Steps-of-Bayesian-data-analysis-2\"><span class=\"toc-item-num\">2&nbsp;&nbsp;</span>Steps of Bayesian data analysis</a></span></li><li><span><a href=\"#Bayesian-inference\" data-toc-modified-id=\"Bayesian-inference-3\"><span class=\"toc-item-num\">3&nbsp;&nbsp;</span>Bayesian inference</a></span></li><li><span><a href=\"#Step-1---Identify-the-relevant-data-for-the-question-under-investigation\" data-toc-modified-id=\"Step-1---Identify-the-relevant-data-for-the-question-under-investigation-4\"><span class=\"toc-item-num\">4&nbsp;&nbsp;</span>Step 1 - Identify the relevant data for the question under investigation</a></span><ul class=\"toc-item\"><li><span><a href=\"#Study/data-description\" data-toc-modified-id=\"Study/data-description-4.1\"><span class=\"toc-item-num\">4.1&nbsp;&nbsp;</span>Study/data description</a></span></li><li><span><a href=\"#Import-data\" data-toc-modified-id=\"Import-data-4.2\"><span class=\"toc-item-num\">4.2&nbsp;&nbsp;</span>Import data</a></span><ul class=\"toc-item\"><li><span><a href=\"#Clean-the-data\" data-toc-modified-id=\"Clean-the-data-4.2.1\"><span class=\"toc-item-num\">4.2.1&nbsp;&nbsp;</span>Clean the data</a></span></li><li><span><a href=\"#Data-visualisation-and-exploratory-data-analysis\" data-toc-modified-id=\"Data-visualisation-and-exploratory-data-analysis-4.2.2\"><span class=\"toc-item-num\">4.2.2&nbsp;&nbsp;</span>Data visualisation and exploratory data analysis</a></span></li></ul></li></ul></li><li><span><a href=\"#Step-2---Define-the-descriptive-statistical-model-\\begin{align*}\n",
    "y_\\scaleto{1}{1pt}-&amp;\\sim-Normal(\\mu_1,\\sigma\n",
    "\\\\-y_{2}-&amp;\\sim-Normal(\\mu_2,\\sigma)\n",
    "\\\\-\\mu_{1,2}-&amp;\\sim-normal(0,1)-\n",
    "\\\\-\\sigma-&amp;\\sim-exponential(1)\n",
    "\\end{align*}\" data-toc-modified-id=\"Step-2---Define-the-descriptive-statistical-model-\\begin{align*}\n",
    "y_\\scaleto{1}{1pt}-&amp;\\sim-Normal(\\mu_1,\\sigma\n",
    "\\\\-y_{2}-&amp;\\sim-Normal(\\mu_2,\\sigma)\n",
    "\\\\-\\mu_{1,2}-&amp;\\sim-normal(0,1)-\n",
    "\\\\-\\sigma-&amp;\\sim-exponential(1)\n",
    "\\end{align*}-5\"><span class=\"toc-item-num\">5&nbsp;&nbsp;</span>Step 2 - Define the descriptive statistical model <script type=\"math/tex; mode=display\" id=\"MathJax-Element-81\">\\begin{align*}\n",
    "y_\\scaleto{1}{1pt} &\\sim Normal(\\mu_1,\\sigma\n",
    "\\\\ y_{2} &\\sim Normal(\\mu_2,\\sigma)\n",
    "\\\\ \\mu_{1,2} &\\sim normal(0,1) \n",
    "\\\\ \\sigma &\\sim exponential(1)\n",
    "\\end{align*}</script></a></span></li><li><span><a href=\"#Fit-Stan-model\" data-toc-modified-id=\"Fit-Stan-model-6\"><span class=\"toc-item-num\">6&nbsp;&nbsp;</span>Fit Stan model</a></span></li><li><span><a href=\"#Print-model-output\" data-toc-modified-id=\"Print-model-output-7\"><span class=\"toc-item-num\">7&nbsp;&nbsp;</span>Print model output</a></span></li><li><span><a href=\"#Plot-posteriors-and-Traceplots-from-the-MCMC-sampling-of-the-Stan-model.\" data-toc-modified-id=\"Plot-posteriors-and-Traceplots-from-the-MCMC-sampling-of-the-Stan-model.-8\"><span class=\"toc-item-num\">8&nbsp;&nbsp;</span>Plot posteriors and Traceplots from the MCMC sampling of the Stan model.</a></span><ul class=\"toc-item\"><li><ul class=\"toc-item\"><li><span><a href=\"#The-posterior-plots-from-the-arviz-package-show-the-94%-credible-interval-of-the-estimated-posterior-disitributions\" data-toc-modified-id=\"The-posterior-plots-from-the-arviz-package-show-the-94%-credible-interval-of-the-estimated-posterior-disitributions-8.0.1\"><span class=\"toc-item-num\">8.0.1&nbsp;&nbsp;</span>The posterior plots from the arviz package show the 94% credible interval of the estimated posterior disitributions</a></span></li><li><span><a href=\"#for-the-means,-pooled-standard-deviations(estimated-on-only-for-the-cohen-d-calcuation).-The-cohen-d-standardised-mean-difference\" data-toc-modified-id=\"for-the-means,-pooled-standard-deviations(estimated-on-only-for-the-cohen-d-calcuation).-The-cohen-d-standardised-mean-difference-8.0.2\"><span class=\"toc-item-num\">8.0.2&nbsp;&nbsp;</span>for the means, pooled standard deviations(estimated on only for the cohen d calcuation). The cohen d standardised mean difference</a></span></li><li><span><a href=\"#Kruskche-(2013)-as-while-the-point-estimate-suggests-a-diffenece,-the-credible-interval-spans-across-zero\" data-toc-modified-id=\"Kruskche-(2013)-as-while-the-point-estimate-suggests-a-diffenece,-the-credible-interval-spans-across-zero-8.0.3\"><span class=\"toc-item-num\">8.0.3&nbsp;&nbsp;</span>Kruskche (2013) as while the point estimate suggests a diffenece, the credible interval spans across zero</a></span></li><li><span><a href=\"#so-the-diffence-could-reasonalbe-be-credible-in-either-direction.\" data-toc-modified-id=\"so-the-diffence-could-reasonalbe-be-credible-in-either-direction.-8.0.4\"><span class=\"toc-item-num\">8.0.4&nbsp;&nbsp;</span>so the diffence could reasonalbe be credible in either direction.</a></span></li></ul></li></ul></li><li><span><a href=\"#============\" data-toc-modified-id=\"============-9\"><span class=\"toc-item-num\">9&nbsp;&nbsp;</span>============</a></span></li><li><span><a href=\"#Two-group-categorical-Regression.\" data-toc-modified-id=\"Two-group-categorical-Regression.-10\"><span class=\"toc-item-num\">10&nbsp;&nbsp;</span>Two group categorical Regression.</a></span></li><li><span><a href=\"#Ignore-for-now\" data-toc-modified-id=\"Ignore-for-now-11\"><span class=\"toc-item-num\">11&nbsp;&nbsp;</span>Ignore for now</a></span></li><li><span><a href=\"#References\" data-toc-modified-id=\"References-12\"><span class=\"toc-item-num\">12&nbsp;&nbsp;</span>References</a></span></li></ul></div>"
   ]
  },
  {
   "cell_type": "code",
   "execution_count": 1,
   "metadata": {},
   "outputs": [
    {
     "data": {
      "text/html": [
       " <style>\n",
       ".output_png {\n",
       "    display: table-cell;\n",
       "    text-align: center;\n",
       "    vertical-align: middle;\n",
       "}\n",
       "</style> "
      ],
      "text/plain": [
       "<IPython.core.display.HTML object>"
      ]
     },
     "execution_count": 1,
     "metadata": {},
     "output_type": "execute_result"
    }
   ],
   "source": [
    "# Import the neccesary python libraries for Bayesian analysis\n",
    "# and data visualisation.\n",
    "import matplotlib.pyplot as plt\n",
    "%matplotlib inline\n",
    "import seaborn as sns\n",
    "import numpy as np\n",
    "import pandas as pd\n",
    "import os\n",
    "import stan as ps\n",
    "import arviz as az\n",
    "from patsy import dmatrix\n",
    "import os\n",
    "\n",
    "# Importing nest_asyncio is only necessary to run pystan in Jupyter Notebooks.\n",
    "import nest_asyncio\n",
    "nest_asyncio.apply();\n",
    "\n",
    "# Specify the number of chains to the number of availible cpu's.\n",
    "n_chains = os.cpu_count()\n",
    "n_samples = 2000\n",
    "#Convert to int so Stan will not crash below.\n",
    "n_warmup = int(n_samples/2)\n",
    "#Specify step size.\n",
    "stepS = .8\n",
    "\n",
    "# Functions\n",
    "def abline(slope, intercept):\n",
    "    \"\"\"Plot a line from slope and intercept\"\"\"\n",
    "    axes = plt.gca()\n",
    "    x_vals = np.array(axes.get_xlim())\n",
    "    y_vals = intercept + slope * x_vals\n",
    "    plt.plot(x_vals, y_vals, '-')\n",
    "\n",
    "from IPython.core.display import HTML as Center\n",
    "\n",
    "Center(\"\"\" <style>\n",
    ".output_png {\n",
    "    display: table-cell;\n",
    "    text-align: center;\n",
    "    vertical-align: middle;\n",
    "}\n",
    "</style> \"\"\")"
   ]
  },
  {
   "cell_type": "markdown",
   "metadata": {},
   "source": [
    "# Bayesian estimation equivalent of the between subjects (student) t-test\n",
    "\n",
    "This notebook is the natural follow up on from the one-sample t-test notebook (so if anything is unclear that notebook may help).\n",
    "\n",
    "## The classic between subject (student t-test)"
   ]
  },
  {
   "cell_type": "markdown",
   "metadata": {},
   "source": [
    "# Steps of Bayesian data analysis\n",
    "\n",
    "<font size = \"3\"> Kruscke (2015) offers a step by step formulation for how to conduct a Bayesian analysis:\n",
    "\n",
    "1. Identify the relevant data for the question under investigation.\n",
    "\n",
    "2. Define the descriptive (mathematical) model for the data.\n",
    "\n",
    "3. Specify the Priors for the model. If scientific research publication is the goal the priors will need to be accepted by a skeptical audience. This should be achievable using prior predictive checks to ascertain if the priors are reasonable.\n",
    "\n",
    "4. Using Bayes rule estimate the posterior for the parameters of the model using the likelihood and priors. Then use the posterior for conducting your inferences.\n",
    "\n",
    "5. Conduct model checks. i.e. Posterior predictive checks.</font> \n",
    "\n",
    "<font size = \"1\">This notebook will follow this approach generally.</font> "
   ]
  },
  {
   "cell_type": "markdown",
   "metadata": {},
   "source": [
    "# Bayesian inference\n",
    "<font size = \"3\"> Following on from that quick description of the classic between (independent) subjects t-test above its important to keep in mind that Bayesian inference is all derived from the application of Bayes rule $P(\\theta \\mid y) = \\large \\frac{P(y \\mid \\theta) \\, P(\\theta)}{P(y)}$ and as such while the following description of the Bayesian model is an equivalent to the two sample between t-test, It is fundamentally different, because it uses fully probabilistic modelling and the inference is not based on sampling distributions.</font>\n",
    "    \n",
    "<font size = \"1\"> For a fuller description see the practicing Bayesian statistics markdown file within the Github repository.</font>"
   ]
  },
  {
   "cell_type": "markdown",
   "metadata": {},
   "source": [
    "#  Step 1 - Identify the relevant data for the question under investigation"
   ]
  },
  {
   "cell_type": "markdown",
   "metadata": {},
   "source": [
    "## Study/data description\n",
    "\n",
    "The following notebook describes a Bayesian estimation analysis of the data from a replication study by Wagenmaker et al. (2015) of Topolisnki and Sparenberg (2012). Wagenmaker et al. (2015) are advocates of Bayesian data analysis generally and in their replication advocates for the general application of Bayes Factor and for the use of their own analysis software JASP which interested readers can download for free at https://jasp-stats.org/. Their replication demonstrated a Bayes factor analysis in order to illustrate both the neccesity of replication and the power of Bayes to approach evidence of absence question that Null Hypothesis significance testing cannot conduct (Keysers et al. 2020).\n",
    "\n",
    "The replication was based on Topolinski and Sparenbergs's second experiment. The original study and thus the replication study were premised on the conjecture that clockwise and counterclockwise motion are abstract symbols for progression/regression in time. Topolinski and Sparenberg predicted and aimed to show that clockwise movements would induce psychological states of temporal progression and orientation towards the future.\n",
    "\n",
    "In order to test the original finding Wagenmaker et al. recruited 102 participants to take part in their replication of the original experiment. Participants were split into two conditions were they would either rotate a pair of kitchen rolls clockwise or counterclockwise. The shortened 12-item version of the openness to experience subscale of the Neuroticism–Extroversion–Openness Personality Inventory (NEO PI-R; Costa and McCrae, 1992) was completed by the participants."
   ]
  },
  {
   "cell_type": "markdown",
   "metadata": {},
   "source": [
    "## Import data"
   ]
  },
  {
   "cell_type": "markdown",
   "metadata": {},
   "source": [
    "### Clean the data"
   ]
  },
  {
   "cell_type": "code",
   "execution_count": 2,
   "metadata": {
    "scrolled": true
   },
   "outputs": [
    {
     "data": {
      "text/html": [
       "<div>\n",
       "<style scoped>\n",
       "    .dataframe tbody tr th:only-of-type {\n",
       "        vertical-align: middle;\n",
       "    }\n",
       "\n",
       "    .dataframe tbody tr th {\n",
       "        vertical-align: top;\n",
       "    }\n",
       "\n",
       "    .dataframe thead th {\n",
       "        text-align: right;\n",
       "    }\n",
       "</style>\n",
       "<table border=\"1\" class=\"dataframe\">\n",
       "  <thead>\n",
       "    <tr style=\"text-align: right;\">\n",
       "      <th></th>\n",
       "      <th>mean_NEO</th>\n",
       "      <th>Rotation</th>\n",
       "    </tr>\n",
       "  </thead>\n",
       "  <tbody>\n",
       "    <tr>\n",
       "      <th>0</th>\n",
       "      <td>0.666667</td>\n",
       "      <td>counter</td>\n",
       "    </tr>\n",
       "    <tr>\n",
       "      <th>1</th>\n",
       "      <td>1.166667</td>\n",
       "      <td>clock</td>\n",
       "    </tr>\n",
       "  </tbody>\n",
       "</table>\n",
       "</div>"
      ],
      "text/plain": [
       "   mean_NEO Rotation\n",
       "0  0.666667  counter\n",
       "1  1.166667    clock"
      ]
     },
     "execution_count": 2,
     "metadata": {},
     "output_type": "execute_result"
    }
   ],
   "source": [
    "#Use os to change working directory to import data into jupyter notebook for analysis\n",
    "url = \"https://raw.githubusercontent.com/ebrlab/Statistical-methods-for-research-workers-bayes-for-psychologists-and-neuroscientists/master/wip/Data/Turning_Hands_Data_Final.csv\"\n",
    "#Read in csv file to dataframe\n",
    "df = pd.read_csv(url)\n",
    "\n",
    "# Extract neo mean (openess to experience) scores and rotation conditions for comparison below\n",
    "df_Mu_neo_condt = df[[\"mean_NEO\", \"Rotation\"]]\n",
    "df_Mu_neo_condt.head(2)"
   ]
  },
  {
   "cell_type": "code",
   "execution_count": 3,
   "metadata": {},
   "outputs": [
    {
     "name": "stdout",
     "output_type": "stream",
     "text": [
      "54\n"
     ]
    }
   ],
   "source": [
    "#Extract counter clockwise groups neo-score means and convert into numpy array for vectorisation using python dictionary below.\n",
    "df_counter = df_Mu_neo_condt[df_Mu_neo_condt['Rotation'].str.contains('co')]\n",
    "print(len(df_counter))"
   ]
  },
  {
   "cell_type": "code",
   "execution_count": 4,
   "metadata": {},
   "outputs": [
    {
     "name": "stdout",
     "output_type": "stream",
     "text": [
      "48\n"
     ]
    }
   ],
   "source": [
    "# Extract counter clockwise groups neo means and convert into numpy array for vectorisation using python dictionary below.\n",
    "df_clock = df_Mu_neo_condt[df_Mu_neo_condt['Rotation'].str.contains('cl')]\n",
    "# Check lenght of dataframes tro confirm they are the correct length\n",
    "print(len(df_clock))"
   ]
  },
  {
   "cell_type": "markdown",
   "metadata": {},
   "source": [
    "### Data visualisation and exploratory data analysis "
   ]
  },
  {
   "cell_type": "code",
   "execution_count": 5,
   "metadata": {},
   "outputs": [
    {
     "data": {
      "image/png": "[encoded data removed]",
      "text/plain": [
       "<Figure size 432x288 with 1 Axes>"
      ]
     },
     "metadata": {
      "needs_background": "light"
     },
     "output_type": "display_data"
    }
   ],
   "source": [
    "# Plot histogram the clockwise NEO scores \n",
    "sns.histplot(df_clock['mean_NEO']).set(xlabel = 'mean NEO scores');\n"
   ]
  },
  {
   "cell_type": "code",
   "execution_count": 6,
   "metadata": {},
   "outputs": [
    {
     "data": {
      "image/png": "[encoded data removed]",
      "text/plain": [
       "<Figure size 432x288 with 1 Axes>"
      ]
     },
     "metadata": {
      "needs_background": "light"
     },
     "output_type": "display_data"
    }
   ],
   "source": [
    "# Plot histogram the counter clockwise NEO scores \n",
    "sns.histplot(df_counter['mean_NEO']).set(xlabel = 'mean NEO scores');"
   ]
  },
  {
   "cell_type": "markdown",
   "metadata": {},
   "source": [
    "# Step 2 - Define the descriptive statistical model \\begin{align*}\n",
    "y &\\sim Normal(\\mu_j,\\sigma)\n",
    "\\\\ \\mu_{j} &\\sim Normal(0,1) \n",
    "\\\\ \\sigma &\\sim HalfNormal(0,1)\n",
    "\\end{align*} "
   ]
  },
  {
   "cell_type": "markdown",
   "metadata": {},
   "source": [
    "# Stan model"
   ]
  },
  {
   "cell_type": "code",
   "execution_count": 7,
   "metadata": {},
   "outputs": [],
   "source": [
    "# Stan model put into string to be called when the model is compiled\n",
    "student_t = \"\"\"\n",
    "\n",
    "data {\n",
    "  int<lower=0> N1;  // # of observations (counter clockwise)\n",
    "  int<lower=0> N2;  // # of observations (clockwise)\n",
    "  // sample size is indentical in this case but of course but this is rare\n",
    "  \n",
    "  vector[N1] y1;  // Neo scores (counter clockwise)\n",
    "  vector[N2] y2;  // Neo scores (clockwise);\n",
    "  \n",
    "  // Prior values\n",
    "  real sigma_sigma;\n",
    "  \n",
    "}\n",
    "\n",
    "transformed data{\n",
    "\n",
    "  vector[N1] y1_std;\n",
    "  vector[N2] y2_std;\n",
    "  \n",
    "  y1_std = (y1 - mean(y1)) / sd(y1);\n",
    "  y2_std = (y2 - mean(y2)) / sd(y2);\n",
    "  \n",
    "} \n",
    "\n",
    "parameters {\n",
    "vector[1] mu_1;  // mean of (counter clockwise) group bounded to lower -2 and upper 2 in line with the likert\n",
    "//scale on the neo personality measure.\n",
    "vector[1] mu_2;  // mean of (clockwise) group \n",
    "real<lower=0> sigma; // pooled standard deviation estiamted across conditions\n",
    "}\n",
    "\n",
    "model {\n",
    "\n",
    "// Priors\n",
    "// std_normal used as it is a more efficent option compared to nornmal(0, 1) in Stan.\n",
    "mu_1 ~ std_normal();\n",
    "mu_2 ~ std_normal();\n",
    "sigma ~ normal(0, sigma_sigma);\n",
    "\n",
    "// likelihoods\n",
    "  y1_std ~ normal(mu_1, sigma);\n",
    "  y2_std ~ normal(mu_2, sigma);\n",
    "}\n",
    "\n",
    "generated quantities {\n",
    "// Create variable for posterior predictive samples.\n",
    "real yrep1[N1];\n",
    "real yrep2[N2];\n",
    "vector[1] diff;\n",
    "\n",
    "// Calculate the diffence between the mu parameters.\n",
    "diff = mu_1 - mu_2;\n",
    "  \n",
    "  \n",
    "// Generate data for posterior samples\n",
    "yrep1 = normal_rng(mu_1, sigma);\n",
    "yrep2 = normal_rng(mu_2, sigma);\n",
    "}\n",
    "\n",
    "\"\"\""
   ]
  },
  {
   "cell_type": "markdown",
   "metadata": {},
   "source": [
    "It important to note that the above model can be expressed more succintly, \n",
    "a way to do this is in the One-way ANOVA notebook. The model formulation here is \n",
    "presented for pedagoligical reasons here."
   ]
  },
  {
   "cell_type": "code",
   "execution_count": 8,
   "metadata": {},
   "outputs": [],
   "source": [
    "#Create python dictionary to specify the data to be modelled using th stan coded model above,\n",
    "#(Should provalbly use length funtion for the N vector.\n",
    "data = {'N1': len(df_counter) ,\n",
    "               'N2': len(df_clock),             \n",
    "               'y1': df_counter['mean_NEO'].values,\n",
    "               'y2': df_clock['mean_NEO'].values,\n",
    "               'sigma_sigma': 1}"
   ]
  },
  {
   "cell_type": "code",
   "execution_count": 9,
   "metadata": {},
   "outputs": [
    {
     "name": "stdout",
     "output_type": "stream",
     "text": [
      "Building...\n"
     ]
    },
    {
     "name": "stderr",
     "output_type": "stream",
     "text": [
      "\n",
      "Building: 40.1s, done.Messages from stanc:\n",
      "Warning: The parameter sigma has no priors.\n"
     ]
    }
   ],
   "source": [
    "# Compile Stan model to C++ code.\n",
    "sm = ps.build(student_t, data = data, random_seed =1)"
   ]
  },
  {
   "cell_type": "markdown",
   "metadata": {},
   "source": [
    "# Fit Stan model "
   ]
  },
  {
   "cell_type": "code",
   "execution_count": 13,
   "metadata": {},
   "outputs": [
    {
     "name": "stderr",
     "output_type": "stream",
     "text": [
      "Sampling:   0%"
     ]
    },
    {
     "ename": "RuntimeError",
     "evalue": "Exception during call to services function: `ValueError(\"Exception: normal_lpdf: Random variable has size = 54, but Location parameter has size 1; and they must be the same size. (in '/tmp/httpstan_g29hw_qe/model_4lmbfzxs.stan', line 40, column 2 to column 31)\")`, traceback: `['  File \"/storage/gold/cinn/misc/software/Ubuntu/20.04/envs/pystan_env/lib/python3.7/asyncio/tasks.py\", line 249, in __step\\n    result = coro.send(None)\\n', '  File \"/storage/gold/cinn/misc/software/Ubuntu/20.04/envs/pystan_env/lib/python3.7/site-packages/httpstan/services_stub.py\", line 159, in call\\n    future.result()\\n', '  File \"/storage/gold/cinn/misc/software/Ubuntu/20.04/envs/pystan_env/lib/python3.7/asyncio/futures.py\", line 181, in result\\n    raise self._exception\\n']`",
     "output_type": "error",
     "traceback": [
      "\u001b[0;31m---------------------------------------------------------------------------\u001b[0m",
      "\u001b[0;31mRuntimeError\u001b[0m                              Traceback (most recent call last)",
      "\u001b[0;32m<ipython-input-13-2de1bff9a613>\u001b[0m in \u001b[0;36m<module>\u001b[0;34m\u001b[0m\n\u001b[0;32m----> 1\u001b[0;31m \u001b[0mfit\u001b[0m \u001b[0;34m=\u001b[0m \u001b[0msm\u001b[0m\u001b[0;34m.\u001b[0m\u001b[0msample\u001b[0m\u001b[0;34m(\u001b[0m\u001b[0mnum_chains\u001b[0m \u001b[0;34m=\u001b[0m \u001b[0mn_chains\u001b[0m \u001b[0;34m,\u001b[0m \u001b[0mnum_samples\u001b[0m \u001b[0;34m=\u001b[0m \u001b[0mn_samples\u001b[0m\u001b[0;34m,\u001b[0m \u001b[0mnum_warmup\u001b[0m \u001b[0;34m=\u001b[0m \u001b[0mn_warmup\u001b[0m\u001b[0;34m,\u001b[0m \u001b[0mstepsize\u001b[0m \u001b[0;34m=\u001b[0m \u001b[0mstepS\u001b[0m\u001b[0;34m)\u001b[0m\u001b[0;34m\u001b[0m\u001b[0;34m\u001b[0m\u001b[0m\n\u001b[0m",
      "\u001b[0;32m/storage/gold/cinn/misc/software/Ubuntu/20.04/envs/pystan_env/lib/python3.7/site-packages/stan/model.py\u001b[0m in \u001b[0;36msample\u001b[0;34m(self, num_chains, **kwargs)\u001b[0m\n\u001b[1;32m     82\u001b[0m \u001b[0;34m\u001b[0m\u001b[0m\n\u001b[1;32m     83\u001b[0m         \"\"\"\n\u001b[0;32m---> 84\u001b[0;31m         \u001b[0;32mreturn\u001b[0m \u001b[0mself\u001b[0m\u001b[0;34m.\u001b[0m\u001b[0mhmc_nuts_diag_e_adapt\u001b[0m\u001b[0;34m(\u001b[0m\u001b[0mnum_chains\u001b[0m\u001b[0;34m=\u001b[0m\u001b[0mnum_chains\u001b[0m\u001b[0;34m,\u001b[0m \u001b[0;34m**\u001b[0m\u001b[0mkwargs\u001b[0m\u001b[0;34m)\u001b[0m\u001b[0;34m\u001b[0m\u001b[0;34m\u001b[0m\u001b[0m\n\u001b[0m\u001b[1;32m     85\u001b[0m \u001b[0;34m\u001b[0m\u001b[0m\n\u001b[1;32m     86\u001b[0m     \u001b[0;32mdef\u001b[0m \u001b[0mhmc_nuts_diag_e_adapt\u001b[0m\u001b[0;34m(\u001b[0m\u001b[0mself\u001b[0m\u001b[0;34m,\u001b[0m \u001b[0;34m*\u001b[0m\u001b[0;34m,\u001b[0m \u001b[0mnum_chains\u001b[0m\u001b[0;34m=\u001b[0m\u001b[0;36m4\u001b[0m\u001b[0;34m,\u001b[0m \u001b[0;34m**\u001b[0m\u001b[0mkwargs\u001b[0m\u001b[0;34m)\u001b[0m \u001b[0;34m->\u001b[0m \u001b[0mstan\u001b[0m\u001b[0;34m.\u001b[0m\u001b[0mfit\u001b[0m\u001b[0;34m.\u001b[0m\u001b[0mFit\u001b[0m\u001b[0;34m:\u001b[0m\u001b[0;34m\u001b[0m\u001b[0;34m\u001b[0m\u001b[0m\n",
      "\u001b[0;32m/storage/gold/cinn/misc/software/Ubuntu/20.04/envs/pystan_env/lib/python3.7/site-packages/stan/model.py\u001b[0m in \u001b[0;36mhmc_nuts_diag_e_adapt\u001b[0;34m(self, num_chains, **kwargs)\u001b[0m\n\u001b[1;32m    101\u001b[0m         \"\"\"\n\u001b[1;32m    102\u001b[0m         \u001b[0mfunction\u001b[0m \u001b[0;34m=\u001b[0m \u001b[0;34m\"stan::services::sample::hmc_nuts_diag_e_adapt\"\u001b[0m\u001b[0;34m\u001b[0m\u001b[0;34m\u001b[0m\u001b[0m\n\u001b[0;32m--> 103\u001b[0;31m         \u001b[0;32mreturn\u001b[0m \u001b[0mself\u001b[0m\u001b[0;34m.\u001b[0m\u001b[0m_create_fit\u001b[0m\u001b[0;34m(\u001b[0m\u001b[0mfunction\u001b[0m\u001b[0;34m=\u001b[0m\u001b[0mfunction\u001b[0m\u001b[0;34m,\u001b[0m \u001b[0mnum_chains\u001b[0m\u001b[0;34m=\u001b[0m\u001b[0mnum_chains\u001b[0m\u001b[0;34m,\u001b[0m \u001b[0;34m**\u001b[0m\u001b[0mkwargs\u001b[0m\u001b[0;34m)\u001b[0m\u001b[0;34m\u001b[0m\u001b[0;34m\u001b[0m\u001b[0m\n\u001b[0m\u001b[1;32m    104\u001b[0m \u001b[0;34m\u001b[0m\u001b[0m\n\u001b[1;32m    105\u001b[0m     \u001b[0;32mdef\u001b[0m \u001b[0mfixed_param\u001b[0m\u001b[0;34m(\u001b[0m\u001b[0mself\u001b[0m\u001b[0;34m,\u001b[0m \u001b[0;34m*\u001b[0m\u001b[0;34m,\u001b[0m \u001b[0mnum_chains\u001b[0m\u001b[0;34m=\u001b[0m\u001b[0;36m4\u001b[0m\u001b[0;34m,\u001b[0m \u001b[0;34m**\u001b[0m\u001b[0mkwargs\u001b[0m\u001b[0;34m)\u001b[0m \u001b[0;34m->\u001b[0m \u001b[0mstan\u001b[0m\u001b[0;34m.\u001b[0m\u001b[0mfit\u001b[0m\u001b[0;34m.\u001b[0m\u001b[0mFit\u001b[0m\u001b[0;34m:\u001b[0m\u001b[0;34m\u001b[0m\u001b[0;34m\u001b[0m\u001b[0m\n",
      "\u001b[0;32m/storage/gold/cinn/misc/software/Ubuntu/20.04/envs/pystan_env/lib/python3.7/site-packages/stan/model.py\u001b[0m in \u001b[0;36m_create_fit\u001b[0;34m(self, function, num_chains, **kwargs)\u001b[0m\n\u001b[1;32m    304\u001b[0m \u001b[0;34m\u001b[0m\u001b[0m\n\u001b[1;32m    305\u001b[0m         \u001b[0;32mtry\u001b[0m\u001b[0;34m:\u001b[0m\u001b[0;34m\u001b[0m\u001b[0;34m\u001b[0m\u001b[0m\n\u001b[0;32m--> 306\u001b[0;31m             \u001b[0;32mreturn\u001b[0m \u001b[0masyncio\u001b[0m\u001b[0;34m.\u001b[0m\u001b[0mrun\u001b[0m\u001b[0;34m(\u001b[0m\u001b[0mgo\u001b[0m\u001b[0;34m(\u001b[0m\u001b[0;34m)\u001b[0m\u001b[0;34m)\u001b[0m\u001b[0;34m\u001b[0m\u001b[0;34m\u001b[0m\u001b[0m\n\u001b[0m\u001b[1;32m    307\u001b[0m         \u001b[0;32mexcept\u001b[0m \u001b[0mKeyboardInterrupt\u001b[0m\u001b[0;34m:\u001b[0m\u001b[0;34m\u001b[0m\u001b[0;34m\u001b[0m\u001b[0m\n\u001b[1;32m    308\u001b[0m             \u001b[0;32mreturn\u001b[0m  \u001b[0;31m# type: ignore\u001b[0m\u001b[0;34m\u001b[0m\u001b[0;34m\u001b[0m\u001b[0m\n",
      "\u001b[0;32m/storage/gold/cinn/misc/software/Ubuntu/20.04/envs/pystan_env/lib/python3.7/site-packages/nest_asyncio.py\u001b[0m in \u001b[0;36mrun\u001b[0;34m(future, debug)\u001b[0m\n\u001b[1;32m     30\u001b[0m         \u001b[0mloop\u001b[0m \u001b[0;34m=\u001b[0m \u001b[0masyncio\u001b[0m\u001b[0;34m.\u001b[0m\u001b[0mget_event_loop\u001b[0m\u001b[0;34m(\u001b[0m\u001b[0;34m)\u001b[0m\u001b[0;34m\u001b[0m\u001b[0;34m\u001b[0m\u001b[0m\n\u001b[1;32m     31\u001b[0m         \u001b[0mloop\u001b[0m\u001b[0;34m.\u001b[0m\u001b[0mset_debug\u001b[0m\u001b[0;34m(\u001b[0m\u001b[0mdebug\u001b[0m\u001b[0;34m)\u001b[0m\u001b[0;34m\u001b[0m\u001b[0;34m\u001b[0m\u001b[0m\n\u001b[0;32m---> 32\u001b[0;31m         \u001b[0;32mreturn\u001b[0m \u001b[0mloop\u001b[0m\u001b[0;34m.\u001b[0m\u001b[0mrun_until_complete\u001b[0m\u001b[0;34m(\u001b[0m\u001b[0mfuture\u001b[0m\u001b[0;34m)\u001b[0m\u001b[0;34m\u001b[0m\u001b[0;34m\u001b[0m\u001b[0m\n\u001b[0m\u001b[1;32m     33\u001b[0m \u001b[0;34m\u001b[0m\u001b[0m\n\u001b[1;32m     34\u001b[0m     \u001b[0;32mif\u001b[0m \u001b[0msys\u001b[0m\u001b[0;34m.\u001b[0m\u001b[0mversion_info\u001b[0m \u001b[0;34m>=\u001b[0m \u001b[0;34m(\u001b[0m\u001b[0;36m3\u001b[0m\u001b[0;34m,\u001b[0m \u001b[0;36m6\u001b[0m\u001b[0;34m,\u001b[0m \u001b[0;36m0\u001b[0m\u001b[0;34m)\u001b[0m\u001b[0;34m:\u001b[0m\u001b[0;34m\u001b[0m\u001b[0;34m\u001b[0m\u001b[0m\n",
      "\u001b[0;32m/storage/gold/cinn/misc/software/Ubuntu/20.04/envs/pystan_env/lib/python3.7/site-packages/nest_asyncio.py\u001b[0m in \u001b[0;36mrun_until_complete\u001b[0;34m(self, future)\u001b[0m\n\u001b[1;32m     68\u001b[0m                 raise RuntimeError(\n\u001b[1;32m     69\u001b[0m                     'Event loop stopped before Future completed.')\n\u001b[0;32m---> 70\u001b[0;31m             \u001b[0;32mreturn\u001b[0m \u001b[0mf\u001b[0m\u001b[0;34m.\u001b[0m\u001b[0mresult\u001b[0m\u001b[0;34m(\u001b[0m\u001b[0;34m)\u001b[0m\u001b[0;34m\u001b[0m\u001b[0;34m\u001b[0m\u001b[0m\n\u001b[0m\u001b[1;32m     71\u001b[0m \u001b[0;34m\u001b[0m\u001b[0m\n\u001b[1;32m     72\u001b[0m     \u001b[0;32mdef\u001b[0m \u001b[0m_run_once\u001b[0m\u001b[0;34m(\u001b[0m\u001b[0mself\u001b[0m\u001b[0;34m)\u001b[0m\u001b[0;34m:\u001b[0m\u001b[0;34m\u001b[0m\u001b[0;34m\u001b[0m\u001b[0m\n",
      "\u001b[0;32m/storage/gold/cinn/misc/software/Ubuntu/20.04/envs/pystan_env/lib/python3.7/asyncio/futures.py\u001b[0m in \u001b[0;36mresult\u001b[0;34m(self)\u001b[0m\n\u001b[1;32m    179\u001b[0m         \u001b[0mself\u001b[0m\u001b[0;34m.\u001b[0m\u001b[0m__log_traceback\u001b[0m \u001b[0;34m=\u001b[0m \u001b[0;32mFalse\u001b[0m\u001b[0;34m\u001b[0m\u001b[0;34m\u001b[0m\u001b[0m\n\u001b[1;32m    180\u001b[0m         \u001b[0;32mif\u001b[0m \u001b[0mself\u001b[0m\u001b[0;34m.\u001b[0m\u001b[0m_exception\u001b[0m \u001b[0;32mis\u001b[0m \u001b[0;32mnot\u001b[0m \u001b[0;32mNone\u001b[0m\u001b[0;34m:\u001b[0m\u001b[0;34m\u001b[0m\u001b[0;34m\u001b[0m\u001b[0m\n\u001b[0;32m--> 181\u001b[0;31m             \u001b[0;32mraise\u001b[0m \u001b[0mself\u001b[0m\u001b[0;34m.\u001b[0m\u001b[0m_exception\u001b[0m\u001b[0;34m\u001b[0m\u001b[0;34m\u001b[0m\u001b[0m\n\u001b[0m\u001b[1;32m    182\u001b[0m         \u001b[0;32mreturn\u001b[0m \u001b[0mself\u001b[0m\u001b[0;34m.\u001b[0m\u001b[0m_result\u001b[0m\u001b[0;34m\u001b[0m\u001b[0;34m\u001b[0m\u001b[0m\n\u001b[1;32m    183\u001b[0m \u001b[0;34m\u001b[0m\u001b[0m\n",
      "\u001b[0;32m/storage/gold/cinn/misc/software/Ubuntu/20.04/envs/pystan_env/lib/python3.7/asyncio/tasks.py\u001b[0m in \u001b[0;36m__step\u001b[0;34m(***failed resolving arguments***)\u001b[0m\n\u001b[1;32m    247\u001b[0m                 \u001b[0;31m# We use the `send` method directly, because coroutines\u001b[0m\u001b[0;34m\u001b[0m\u001b[0;34m\u001b[0m\u001b[0;34m\u001b[0m\u001b[0m\n\u001b[1;32m    248\u001b[0m                 \u001b[0;31m# don't have `__iter__` and `__next__` methods.\u001b[0m\u001b[0;34m\u001b[0m\u001b[0;34m\u001b[0m\u001b[0;34m\u001b[0m\u001b[0m\n\u001b[0;32m--> 249\u001b[0;31m                 \u001b[0mresult\u001b[0m \u001b[0;34m=\u001b[0m \u001b[0mcoro\u001b[0m\u001b[0;34m.\u001b[0m\u001b[0msend\u001b[0m\u001b[0;34m(\u001b[0m\u001b[0;32mNone\u001b[0m\u001b[0;34m)\u001b[0m\u001b[0;34m\u001b[0m\u001b[0;34m\u001b[0m\u001b[0m\n\u001b[0m\u001b[1;32m    250\u001b[0m             \u001b[0;32melse\u001b[0m\u001b[0;34m:\u001b[0m\u001b[0;34m\u001b[0m\u001b[0;34m\u001b[0m\u001b[0m\n\u001b[1;32m    251\u001b[0m                 \u001b[0mresult\u001b[0m \u001b[0;34m=\u001b[0m \u001b[0mcoro\u001b[0m\u001b[0;34m.\u001b[0m\u001b[0mthrow\u001b[0m\u001b[0;34m(\u001b[0m\u001b[0mexc\u001b[0m\u001b[0;34m)\u001b[0m\u001b[0;34m\u001b[0m\u001b[0;34m\u001b[0m\u001b[0m\n",
      "\u001b[0;32m/storage/gold/cinn/misc/software/Ubuntu/20.04/envs/pystan_env/lib/python3.7/site-packages/stan/model.py\u001b[0m in \u001b[0;36mgo\u001b[0;34m()\u001b[0m\n\u001b[1;32m    229\u001b[0m                             \u001b[0msampling_output\u001b[0m\u001b[0;34m.\u001b[0m\u001b[0mwrite_line\u001b[0m\u001b[0;34m(\u001b[0m\u001b[0;34m\"<info>Sampling:</info> <error>Initialization failed.</error>\"\u001b[0m\u001b[0;34m)\u001b[0m\u001b[0;34m\u001b[0m\u001b[0;34m\u001b[0m\u001b[0m\n\u001b[1;32m    230\u001b[0m                             \u001b[0;32mraise\u001b[0m \u001b[0mRuntimeError\u001b[0m\u001b[0;34m(\u001b[0m\u001b[0;34m\"Initialization failed.\"\u001b[0m\u001b[0;34m)\u001b[0m\u001b[0;34m\u001b[0m\u001b[0;34m\u001b[0m\u001b[0m\n\u001b[0;32m--> 231\u001b[0;31m                         \u001b[0;32mraise\u001b[0m \u001b[0mRuntimeError\u001b[0m\u001b[0;34m(\u001b[0m\u001b[0mmessage\u001b[0m\u001b[0;34m)\u001b[0m\u001b[0;34m\u001b[0m\u001b[0;34m\u001b[0m\u001b[0m\n\u001b[0m\u001b[1;32m    232\u001b[0m \u001b[0;34m\u001b[0m\u001b[0m\n\u001b[1;32m    233\u001b[0m                     \u001b[0mresp\u001b[0m \u001b[0;34m=\u001b[0m \u001b[0;32mawait\u001b[0m \u001b[0mclient\u001b[0m\u001b[0;34m.\u001b[0m\u001b[0mget\u001b[0m\u001b[0;34m(\u001b[0m\u001b[0;34mf\"/{fit_name}\"\u001b[0m\u001b[0;34m)\u001b[0m\u001b[0;34m\u001b[0m\u001b[0;34m\u001b[0m\u001b[0m\n",
      "\u001b[0;31mRuntimeError\u001b[0m: Exception during call to services function: `ValueError(\"Exception: normal_lpdf: Random variable has size = 54, but Location parameter has size 1; and they must be the same size. (in '/tmp/httpstan_g29hw_qe/model_4lmbfzxs.stan', line 40, column 2 to column 31)\")`, traceback: `['  File \"/storage/gold/cinn/misc/software/Ubuntu/20.04/envs/pystan_env/lib/python3.7/asyncio/tasks.py\", line 249, in __step\\n    result = coro.send(None)\\n', '  File \"/storage/gold/cinn/misc/software/Ubuntu/20.04/envs/pystan_env/lib/python3.7/site-packages/httpstan/services_stub.py\", line 159, in call\\n    future.result()\\n', '  File \"/storage/gold/cinn/misc/software/Ubuntu/20.04/envs/pystan_env/lib/python3.7/asyncio/futures.py\", line 181, in result\\n    raise self._exception\\n']`"
     ]
    }
   ],
   "source": [
    "fit = sm.sample(num_chains = n_chains , num_samples = n_samples, num_warmup = n_warmup, stepsize = stepS)"
   ]
  },
  {
   "cell_type": "markdown",
   "metadata": {},
   "source": [
    "# Print model output"
   ]
  },
  {
   "cell_type": "code",
   "execution_count": null,
   "metadata": {},
   "outputs": [],
   "source": [
    "fit_df = fit.to_frame()\n",
    "az.summary(fit)"
   ]
  },
  {
   "cell_type": "markdown",
   "metadata": {},
   "source": [
    "As the summary outputs show all rhat values < 1.05. Next we can visually insepct are posteriors and MCMC chains to diangose any potential pathologies."
   ]
  },
  {
   "cell_type": "markdown",
   "metadata": {},
   "source": [
    "# Plot posteriors and Traceplots from the MCMC sampling of the Stan model."
   ]
  },
  {
   "cell_type": "code",
   "execution_count": null,
   "metadata": {},
   "outputs": [],
   "source": [
    "az.plot_posterior(fit);"
   ]
  },
  {
   "cell_type": "code",
   "execution_count": null,
   "metadata": {},
   "outputs": [],
   "source": [
    "az.plot_trace(fit);"
   ]
  },
  {
   "cell_type": "markdown",
   "metadata": {},
   "source": [
    "No obvious pathologies inn the MCMC chains. Showing good mixing and fuzzy caterpillars."
   ]
  },
  {
   "cell_type": "code",
   "execution_count": null,
   "metadata": {},
   "outputs": [],
   "source": [
    "az.plot_rank(fit);"
   ]
  },
  {
   "cell_type": "markdown",
   "metadata": {},
   "source": [
    "The rank plots show no major deviance from the central or scale values. Showing uniformity across chains and parameters."
   ]
  },
  {
   "cell_type": "code",
   "execution_count": null,
   "metadata": {},
   "outputs": [],
   "source": [
    "# Plot autocorrletion plots of the MCMC chains\n",
    "az.plot_autocorr(fit);"
   ]
  },
  {
   "cell_type": "markdown",
   "metadata": {},
   "source": [
    "The autocorrelation plots show no isuues, with all change hovering around 0 from the outset."
   ]
  },
  {
   "cell_type": "code",
   "execution_count": null,
   "metadata": {},
   "outputs": [],
   "source": [
    "# Convert pystan fit object to IO for Arviz functions.\n",
    "idata = az.from_pystan(posterior = fit, posterior_model = sm, posterior_predictive = ['yrep'], observed_data = 'y')"
   ]
  },
  {
   "cell_type": "code",
   "execution_count": null,
   "metadata": {},
   "outputs": [],
   "source": [
    "# Plot posterior simulated data sets for posterior predictive check\n",
    "az.plot_ppc(idata, data_pairs = {\"y\" : \"yrep\"}, num_pp_samples= 100);"
   ]
  },
  {
   "cell_type": "markdown",
   "metadata": {},
   "source": [
    "# References \n",
    "\n",
    "Costa, P. T., and McCrae, R. R. (1992). NEO Personality Inventory Professional Manual. Odessa, FL: Psychological Assessment Resources.\n",
    "\n",
    "Keysers, C., Gazzola, V., & Wagenmakers, E. J. (2020). Using Bayes factor hypothesis testing in neuroscience to establish evidence of absence. Nature neuroscience, 23(7), 788-799.\n",
    "\n",
    "Kruschke, J. K. (2013). Bayesian estimation supersedes the t test. Journal of Experimental Psychology: General, 142(2), 573.\n",
    "\n",
    "Topolinski, S., and Sparenberg, P. (2012). Turning the hands of time: clockwise movements increase preference for novelty. Soc. Psychol. Personal. Sci. 3, 308–314.\n",
    "\n",
    "Wagenmakers, E. J., Beek, T. F., Rotteveel, M., Gierholz, A., Matzke, D., Steingroever, H., ... & Pinto, Y. (2015). Turning the hands of time again: a purely confirmatory replication study and a Bayesian analysis. Frontiers in Psychology, 6, 494.\n",
    "\n"
   ]
  }
 ],
 "metadata": {
  "kernelspec": {
   "display_name": "Python 3",
   "language": "python",
   "name": "python3"
  },
  "language_info": {
   "codemirror_mode": {
    "name": "ipython",
    "version": 3
   },
   "file_extension": ".py",
   "mimetype": "text/x-python",
   "name": "python",
   "nbconvert_exporter": "python",
   "pygments_lexer": "ipython3",
   "version": "3.7.10"
  },
  "toc": {
   "base_numbering": 1,
   "nav_menu": {},
   "number_sections": true,
   "sideBar": true,
   "skip_h1_title": false,
   "title_cell": "Table of Contents",
   "title_sidebar": "Contents",
   "toc_cell": true,
   "toc_position": {
    "height": "calc(100% - 180px)",
    "left": "10px",
    "top": "150px",
    "width": "341.333px"
   },
   "toc_section_display": true,
   "toc_window_display": true
  }
 },
 "nbformat": 4,
 "nbformat_minor": 2
}
