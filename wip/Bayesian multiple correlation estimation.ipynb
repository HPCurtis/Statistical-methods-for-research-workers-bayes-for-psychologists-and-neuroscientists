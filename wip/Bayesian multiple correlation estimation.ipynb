{
 "cells": [
  {
   "cell_type": "markdown",
   "metadata": {
    "toc": true
   },
   "source": [
    "<h1>Table of Contents<span class=\"tocSkip\"></span></h1>\n",
    "<div class=\"toc\"><ul class=\"toc-item\"><li><span><a href=\"#The-classic-pearson-correlation\" data-toc-modified-id=\"The-classic-pearson-correlation-1\"><span class=\"toc-item-num\">1&nbsp;&nbsp;</span>The classic pearson correlation</a></span></li><li><span><a href=\"#Bayesian-inference\" data-toc-modified-id=\"Bayesian-inference-2\"><span class=\"toc-item-num\">2&nbsp;&nbsp;</span>Bayesian inference</a></span></li><li><span><a href=\"#Steps-of-Bayesian-data-analysis\" data-toc-modified-id=\"Steps-of-Bayesian-data-analysis-3\"><span class=\"toc-item-num\">3&nbsp;&nbsp;</span>Steps of Bayesian data analysis</a></span></li><li><span><a href=\"#Step-2---Define-the-descriptive-statistical-model\" data-toc-modified-id=\"Step-2---Define-the-descriptive-statistical-model-4\"><span class=\"toc-item-num\">4&nbsp;&nbsp;</span>Step 2 - Define the descriptive statistical model</a></span></li><li><span><a href=\"#Define-the-descriptive-statistical-model-\\begin{align*}\n",
    "y_i-&amp;\\sim-MultivariateNormal(\\mu_i,-\\Sigma)-\n",
    "\\\\-\\mu_i-&amp;\\sim-Normal(0,1)\n",
    "\\\\-\\Sigma-&amp;=-\\sigma-\\cdot-\\rho\n",
    "\\\\-\\sigma-&amp;\\sim-Lognormal(0,1)\n",
    "\\\\-\\rho-&amp;\\sim-LKJ(1)\n",
    "\\end{align*}\" data-toc-modified-id=\"Define-the-descriptive-statistical-model-\\begin{align*}\n",
    "y_i-&amp;\\sim-MultivariateNormal(\\mu_i,-\\Sigma)-\n",
    "\\\\-\\mu_i-&amp;\\sim-Normal(0,1)\n",
    "\\\\-\\Sigma-&amp;=-\\sigma-\\cdot-\\rho\n",
    "\\\\-\\sigma-&amp;\\sim-Lognormal(0,1)\n",
    "\\\\-\\rho-&amp;\\sim-LKJ(1)\n",
    "\\end{align*}-5\"><span class=\"toc-item-num\">5&nbsp;&nbsp;</span>Define the descriptive statistical model <div class=\"MathJax_Display\" style=\"text-align: center;\"></div><script type=\"math/tex; mode=display\" id=\"MathJax-Element-25\">\\begin{align*}\n",
    "y_i &\\sim MultivariateNormal(\\mu_i, \\Sigma) \n",
    "\\\\ \\mu_i &\\sim Normal(0,1)\n",
    "\\\\ \\Sigma &= \\sigma \\cdot \\rho\n",
    "\\\\ \\sigma &\\sim Lognormal(0,1)\n",
    "\\\\ \\rho &\\sim LKJ(1)\n",
    "\\end{align*}</script></a></span></li><li><span><a href=\"#Step-4--use-Bayes-rule\" data-toc-modified-id=\"Step-4--use-Bayes-rule-6\"><span class=\"toc-item-num\">6&nbsp;&nbsp;</span>Step 4 -use Bayes rule</a></span></li><li><span><a href=\"#Stan-model-for-multipke-correlation-estimation\" data-toc-modified-id=\"Stan-model-for-multipke-correlation-estimation-7\"><span class=\"toc-item-num\">7&nbsp;&nbsp;</span>Stan model for multipke correlation estimation</a></span></li></ul></div>"
   ]
  },
  {
   "cell_type": "code",
   "execution_count": 14,
   "metadata": {},
   "outputs": [],
   "source": [
    "# Import analysis packages\n",
    "%matplotlib inline\n",
    "import stan as ps\n",
    "import numpy as np\n",
    "import pandas as pd\n",
    "import patsy as pt\n",
    "import seaborn as sns\n",
    "import arviz as az\n",
    "import matplotlib.pyplot as plt\n",
    "import scipy.stats as stats\n",
    "\n",
    "# Importing nest_asyncio is only necessary to run pystan in Jupyter Notebooks.\n",
    "import nest_asyncio\n",
    "nest_asyncio.apply();"
   ]
  },
  {
   "cell_type": "markdown",
   "metadata": {},
   "source": [
    "# The classic pearson correlation "
   ]
  },
  {
   "cell_type": "markdown",
   "metadata": {},
   "source": [
    "# Bayesian inference\n",
    "<font size = \"3\"> Following the quick description of the classic one sample t-test above its important to keep in mind that Bayesian analysis inference are all derived from the applciation of Bayes rule $P(\\theta \\mid y) = \\large \\frac{P(y \\mid \\theta) \\, P(\\theta)}{P(y)}$ and as such while the following description of the Bayesian model is an equivalent to pearspn correlation, it is fundamentally different, because it uses fully probabilistic modelling and the infernce is not based on sampling distributions</font>\n",
    "    \n",
    "<font size = \"1\"> For a fuller description see the Practicing Bayesian statistics markdown file within the Github repository.</font>"
   ]
  },
  {
   "cell_type": "markdown",
   "metadata": {},
   "source": [
    "## Bayesian correlation comes many ways\n",
    "\n",
    "The follwoing models like many Bayesian models can be parameterised in many ways to give the same inferences. For models that are used to calculate correlations are good resource to see this variation is https://solomonkurz.netlify.app/post/2019-02-16-bayesian-correlations-let-s-talk-options/ blog. For the notebook here a the final parameterisation of that blog is shown, however the code here being much simpler and therefore easier to understand than the work around method used in Brms package."
   ]
  },
  {
   "cell_type": "markdown",
   "metadata": {},
   "source": [
    "# Steps of Bayesian data analysis\n",
    "\n",
    "<font size = \"3\"> Kruscke (2015) offers a step by step formulation for how to conduct a Bayesian analysis:\n",
    "\n",
    "1. Identify the relevant data for question under investigation.\n",
    "\n",
    "2. Define the descriptive (mathematical) model for the data.\n",
    "\n",
    "3. Specify the Priors for the model. In the case of scientific research publication is the goal, as such the priors must be accepted by a skeptical audience. Much of this can be achieved using prior predcitve checks to acsetain os the priors are reasonable.\n",
    "\n",
    "4. Using Bayes rule estimate the posterior for the parameters of the model using the likelihood and priors. Then interprete and the posterior\n",
    "\n",
    "5. Conduct model checks. i.e. Posterior predcitive checks.</font> \n",
    "\n",
    "<font size = \"1\">This notebook will follow this approach generally.</font> "
   ]
  },
  {
   "cell_type": "code",
   "execution_count": 15,
   "metadata": {},
   "outputs": [],
   "source": [
    "url = 'https://gist.githubusercontent.com/ZeccaLehn/4e06d2575eb9589dbe8c365d61cb056c/raw/898a40b035f7c951579041aecbfb2149331fa9f6/mtcars.csv'\n",
    "df = pd.read_csv(url)"
   ]
  },
  {
   "cell_type": "markdown",
   "metadata": {},
   "source": [
    "# Step 2 - Define the descriptive statistical model"
   ]
  },
  {
   "cell_type": "markdown",
   "metadata": {},
   "source": [
    "# Define the descriptive statistical model \\begin{align*}\n",
    "y_{ij} &\\sim MultivariateNormal(\\mu_{ij}, \\Sigma) \n",
    "\\\\ \\mu &= [0,0]\n",
    "\\\\ \\sigma &= [1,1]\n",
    "\\\\ \\rho &\\sim LKJ(1)\n",
    "\\\\ \\Sigma &= \n",
    "\\end{align*} "
   ]
  },
  {
   "cell_type": "markdown",
   "metadata": {},
   "source": [
    "As stated above the model above allows for the esitmation of correltaion between variables similaryly to classic Pearson correlation. The biggest differnce here though is becuase we are only interested in the correltaions we can standardise the data and then assume that the $\\mu's$ & $\\sigma's$ are known in the model as they are not of interest in this case whilst still preserving the  same covariance in the data to estimate correlation between the variables of interest. This method becomes more vavlualbe as the number of correltions you wish to estiamte increases as it greatly reduces the number of parameters that are needed to be modelled."
   ]
  },
  {
   "cell_type": "markdown",
   "metadata": {},
   "source": [
    "# Step 4 -use Bayes rule"
   ]
  },
  {
   "cell_type": "markdown",
   "metadata": {},
   "source": [
    "# Stan model for multiple correlation estimation"
   ]
  },
  {
   "cell_type": "code",
   "execution_count": 16,
   "metadata": {},
   "outputs": [],
   "source": [
    "Correlation_model = \"\"\"\n",
    "data{\n",
    "\n",
    "int<lower = 0> N; // Number of data points\n",
    "int<lower = 0> K; // Number of correlates\n",
    "vector[K] y[N]; // vectorised form of matrix\n",
    "\n",
    "// Assumed know parameter values\n",
    "vector[K] mu;\n",
    "vector[K] sigma;\n",
    "\n",
    "}\n",
    "\n",
    "parameters{\n",
    "\n",
    "// Correlation matrix\n",
    "corr_matrix[K] rho;\n",
    "\n",
    "}\n",
    "\n",
    "model{\n",
    "\n",
    "// Covariance matrix\n",
    "matrix[K,K] Sigma;\n",
    "Sigma = quad_form_diag(rho,sigma);\n",
    "\n",
    "// Uniform prior for correlation parameters\n",
    "rho ~ lkj_corr(1);\n",
    "\n",
    "//Likelihood\n",
    "y ~ multi_normal(mu, Sigma);\n",
    "\n",
    "}   \n",
    "\"\"\""
   ]
  },
  {
   "cell_type": "code",
   "execution_count": 17,
   "metadata": {},
   "outputs": [],
   "source": [
    "#df[[\"Household_Income\", \"Population_Mean_Income\"]].as_matrix\n",
    "#y = pd.concat([df['Household_Income'],df['Population_Mean_Income']], axis=1)\n",
    "\n",
    "y = pd.concat([stats.zscore(df['mpg']), stats.zscore(df['wt'])], axis=1)\n",
    "\n",
    "data = {'N': len(y),\n",
    "       \"K\": y.shape[1],\n",
    "       'y': y.values, \n",
    "       'mu': np.repeat(0,y.shape[1]),\n",
    "        'sigma': np.repeat(1,y.shape[1])}"
   ]
  },
  {
   "cell_type": "code",
   "execution_count": 18,
   "metadata": {},
   "outputs": [
    {
     "name": "stdout",
     "output_type": "stream",
     "text": [
      "Building...\n"
     ]
    },
    {
     "name": "stderr",
     "output_type": "stream",
     "text": [
      "\n",
      "Building: found in cache, done.Messages from stanc:\n",
      "Warning in '/tmp/httpstan_xppihbjw/model_falprxs3.stan', line 28, column 0: It is suggested to reparameterize your model to replace lkj_corr with lkj_corr_cholesky, the Cholesky factor variant. lkj_corr tends to run slower, consume more memory, and has higher risk of numerical errors.\n"
     ]
    }
   ],
   "source": [
    "sm = ps.build(Correlation_model, data = data, random_seed = 1)"
   ]
  },
  {
   "cell_type": "code",
   "execution_count": 25,
   "metadata": {},
   "outputs": [
    {
     "name": "stderr",
     "output_type": "stream",
     "text": [
      "Sampling:   0%\n",
      "Sampling:  50% (2000/4000)\n",
      "Sampling: 100% (4000/4000)\n",
      "Sampling: 100% (4000/4000), done.\n",
      "Messages received during sampling:\n",
      "  Gradient evaluation took 3.2e-05 seconds\n",
      "  1000 transitions using 10 leapfrog steps per transition would take 0.32 seconds.\n",
      "  Adjust your expectations accordingly!\n",
      "  Informational Message: The current Metropolis proposal is about to be rejected because of the following issue:\n",
      "  Exception: lkj_corr_lpdf: y is not positive definite. (in '/tmp/httpstan_r3h1h8c5/model_falprxs3.stan', line 28, column 0 to column 18)\n",
      "  If this warning occurs sporadically, such as for highly constrained variable types like covariance matrices, then the sampler is fine,\n",
      "  but if this warning occurs often then your model may be either severely ill-conditioned or misspecified.\n",
      "  Gradient evaluation took 2.7e-05 seconds\n",
      "  1000 transitions using 10 leapfrog steps per transition would take 0.27 seconds.\n",
      "  Adjust your expectations accordingly!\n",
      "  Informational Message: The current Metropolis proposal is about to be rejected because of the following issue:\n",
      "  Exception: lkj_corr_lpdf: y is not positive definite. (in '/tmp/httpstan_r3h1h8c5/model_falprxs3.stan', line 28, column 0 to column 18)\n",
      "  If this warning occurs sporadically, such as for highly constrained variable types like covariance matrices, then the sampler is fine,\n",
      "  but if this warning occurs often then your model may be either severely ill-conditioned or misspecified.\n",
      "  Informational Message: The current Metropolis proposal is about to be rejected because of the following issue:\n",
      "  Exception: lkj_corr_lpdf: y is not positive definite. (in '/tmp/httpstan_r3h1h8c5/model_falprxs3.stan', line 28, column 0 to column 18)\n",
      "  If this warning occurs sporadically, such as for highly constrained variable types like covariance matrices, then the sampler is fine,\n",
      "  but if this warning occurs often then your model may be either severely ill-conditioned or misspecified.\n",
      "  Informational Message: The current Metropolis proposal is about to be rejected because of the following issue:\n",
      "  Exception: lkj_corr_lpdf: y is not positive definite. (in '/tmp/httpstan_r3h1h8c5/model_falprxs3.stan', line 28, column 0 to column 18)\n",
      "  If this warning occurs sporadically, such as for highly constrained variable types like covariance matrices, then the sampler is fine,\n",
      "  but if this warning occurs often then your model may be either severely ill-conditioned or misspecified.\n"
     ]
    }
   ],
   "source": [
    "# Remove is want to see any of the verbose warnings\n",
    "fit = sm.hmc_nuts_diag_e_adapt(num_chains= 2, num_samples = 1000, stepsize = .95)"
   ]
  },
  {
   "cell_type": "code",
   "execution_count": 20,
   "metadata": {},
   "outputs": [
    {
     "ename": "NameError",
     "evalue": "name 'fit' is not defined",
     "output_type": "error",
     "traceback": [
      "\u001b[0;31m---------------------------------------------------------------------------\u001b[0m",
      "\u001b[0;31mNameError\u001b[0m                                 Traceback (most recent call last)",
      "\u001b[0;32m<ipython-input-20-53db01a40a97>\u001b[0m in \u001b[0;36m<module>\u001b[0;34m\u001b[0m\n\u001b[0;32m----> 1\u001b[0;31m \u001b[0maz\u001b[0m\u001b[0;34m.\u001b[0m\u001b[0msummary\u001b[0m\u001b[0;34m(\u001b[0m\u001b[0mfit\u001b[0m\u001b[0;34m)\u001b[0m\u001b[0;34m\u001b[0m\u001b[0;34m\u001b[0m\u001b[0m\n\u001b[0m",
      "\u001b[0;31mNameError\u001b[0m: name 'fit' is not defined"
     ]
    }
   ],
   "source": [
    "az.summary(fit)"
   ]
  },
  {
   "cell_type": "code",
   "execution_count": 126,
   "metadata": {},
   "outputs": [],
   "source": [
    "# Put sample into to pandas dataframe\n",
    "frame = fit.to_frame()"
   ]
  },
  {
   "cell_type": "markdown",
   "metadata": {},
   "source": [
    "## Step 5 - Posterior predictive checks\n",
    "\n",
    "For this correlation model some of these checks make less sense, because implicitly many of the parameters are assumed to be known as 0 or 1, and we are only interested to how mucxh the variables are correlated. However posterior checks to see if posterior samples have no pathological issues."
   ]
  },
  {
   "cell_type": "markdown",
   "metadata": {},
   "source": [
    "## Posterior"
   ]
  },
  {
   "cell_type": "code",
   "execution_count": 128,
   "metadata": {},
   "outputs": [
    {
     "data": {
      "image/png": "[encoded data removed]",
      "text/plain": [
       "<Figure size 432x288 with 1 Axes>"
      ]
     },
     "metadata": {
      "needs_background": "light"
     },
     "output_type": "display_data"
    }
   ],
   "source": [
    "az.plot_posterior(frame['rho.2.1'].values);"
   ]
  },
  {
   "cell_type": "markdown",
   "metadata": {},
   "source": [
    "## Traceplots"
   ]
  },
  {
   "cell_type": "code",
   "execution_count": 139,
   "metadata": {},
   "outputs": [
    {
     "data": {
      "image/png": "[encoded data removed]",
      "text/plain": [
       "<Figure size 864x144 with 2 Axes>"
      ]
     },
     "metadata": {
      "needs_background": "light"
     },
     "output_type": "display_data"
    }
   ],
   "source": [
    "az.plot_trace(frame['rho.2.1'].values);"
   ]
  },
  {
   "cell_type": "markdown",
   "metadata": {},
   "source": [
    "Traceplot shows no pathlogical issue with good chain mixing 'Fuzzy caterpillars'"
   ]
  },
  {
   "cell_type": "markdown",
   "metadata": {},
   "source": [
    "## Autocorrelation plots"
   ]
  },
  {
   "cell_type": "code",
   "execution_count": 140,
   "metadata": {},
   "outputs": [
    {
     "data": {
      "image/png": "[encoded data removed]",
      "text/plain": [
       "<Figure size 432x288 with 1 Axes>"
      ]
     },
     "metadata": {
      "needs_background": "light"
     },
     "output_type": "display_data"
    }
   ],
   "source": [
    "az.plot_autocorr(frame['rho.2.1'].values);"
   ]
  },
  {
   "cell_type": "markdown",
   "metadata": {},
   "source": [
    "Autocorreltion plot shows no majot issues, quickly returning to 0."
   ]
  },
  {
   "cell_type": "markdown",
   "metadata": {},
   "source": [
    "# Reporting the results of the Bayesian correlation\n",
    "\n",
    "<font size = \"3\">As Kruschke correctly points out there is no standard formula for presentation of results of Bayesian data analysis in journal articles like the APA guide for reporting frequentist analysis . It is likely there never will be, because as McElreath (2020) explains, Bayesian data analysis is more like a engineering approach to the problem and the resulting model that is fit will be analysis specific. In addition, as Gabry et al, (2019) argue visualisations maybe even more key for decribing and analysis (show dont tell); as such the all the visualisations used above would likely be included with any write up. Anyhow, the write up below generally follows the advice of Kruschke (2015) chapter 25. In any application though it comes down to the problem to be described and the audience that needs to be convinced. </p><br/>\n",
    "\n",
    "<h2>Write up</h2><br/>"
   ]
  },
  {
   "cell_type": "markdown",
   "metadata": {},
   "source": [
    "# References"
   ]
  },
  {
   "cell_type": "code",
   "execution_count": null,
   "metadata": {},
   "outputs": [],
   "source": [
    ".sample()"
   ]
  }
 ],
 "metadata": {
  "kernelspec": {
   "display_name": "Python 3",
   "language": "python",
   "name": "python3"
  },
  "language_info": {
   "codemirror_mode": {
    "name": "ipython",
    "version": 3
   },
   "file_extension": ".py",
   "mimetype": "text/x-python",
   "name": "python",
   "nbconvert_exporter": "python",
   "pygments_lexer": "ipython3",
   "version": "3.7.10"
  },
  "toc": {
   "base_numbering": 1,
   "nav_menu": {},
   "number_sections": true,
   "sideBar": true,
   "skip_h1_title": false,
   "title_cell": "Table of Contents",
   "title_sidebar": "Contents",
   "toc_cell": true,
   "toc_position": {},
   "toc_section_display": true,
   "toc_window_display": true
  }
 },
 "nbformat": 4,
 "nbformat_minor": 2
}
